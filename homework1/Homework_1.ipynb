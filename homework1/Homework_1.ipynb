{
  "nbformat": 4,
  "nbformat_minor": 0,
  "metadata": {
    "colab": {
      "name": "Homework_1.ipynb",
      "provenance": [],
      "collapsed_sections": [
        "O1bt39FIc40H"
      ],
      "toc_visible": true
    },
    "kernelspec": {
      "name": "python3",
      "display_name": "Python 3"
    }
  },
  "cells": [
    {
      "cell_type": "markdown",
      "metadata": {
        "id": "ZeKOsWqY-KBV"
      },
      "source": [
        "#Задание 1"
      ]
    },
    {
      "cell_type": "code",
      "metadata": {
        "id": "uuU24Ks4i0VO"
      },
      "source": [
        "import os\n",
        "import re\n",
        "curr_dir = os.getcwd()"
      ],
      "execution_count": 1,
      "outputs": []
    },
    {
      "cell_type": "code",
      "metadata": {
        "id": "gHgezYJPp3kh"
      },
      "source": [
        "business_1 = open('business-20906848.txt','r',encoding='utf-8').read()\n",
        "business_1 = re.sub('\\n', ' ', business_1)\n",
        "business_1_k = open('business-20906848.key','r',encoding='utf-8').read().split('\\n')\n",
        "fashion_1 = open('fashion-20927364.txt','r',encoding='utf-8').read()\n",
        "fashion_1 = re.sub('\\n', ' ', fashion_1)\n",
        "fashion_1_k = open('fashion-20927364.key','r',encoding='utf-8').read().split('\\n')\n",
        "fashion_2 = open('fashion-20927531.txt','r',encoding='utf-8').read()\n",
        "fashion_2 = re.sub('\\n', ' ', fashion_2)\n",
        "fashion_2_k = open('fashion-20927531.key','r',encoding='utf-8').read().split('\\n')\n",
        "science_1 = open('science-20955108.txt','r',encoding='utf-8').read()\n",
        "science_1 = re.sub('\\n', ' ', science_1)\n",
        "science_1_k = open('science-20955108.key','r',encoding='utf-8').read().split('\\n')\n",
        "tech_1 = open('tech-20932123.txt','r',encoding='utf-8').read()\n",
        "tech_1 = re.sub('\\n', ' ', tech_1)\n",
        "tech_1_k = open('tech-20932123.key','r',encoding='utf-8').read().split('\\n')"
      ],
      "execution_count": 2,
      "outputs": []
    },
    {
      "cell_type": "code",
      "metadata": {
        "id": "qpZFDElArvL3"
      },
      "source": [
        "big_dict = {}\n",
        "big_dict[business_1] = business_1_k\n",
        "big_dict[fashion_1] = fashion_1_k\n",
        "big_dict[fashion_2] = fashion_2_k\n",
        "big_dict[science_1] = science_1_k\n",
        "big_dict[tech_1] = tech_1_k"
      ],
      "execution_count": 3,
      "outputs": []
    },
    {
      "cell_type": "code",
      "metadata": {
        "id": "M1tr0IZlvIpw",
        "outputId": "cfcc0aef-a254-42f8-adb7-bcd0770ed310",
        "colab": {
          "base_uri": "https://localhost:8080/"
        }
      },
      "source": [
        "from gensim.summarization import keywords as kw\n",
        "lis = []\n",
        "for v in big_dict.keys():\n",
        "  print(v)\n",
        "  lis.append(v)"
      ],
      "execution_count": 4,
      "outputs": [
        {
          "output_type": "stream",
          "text": [
            "Gadhafi's gas stations pose dilemma for Europe Flames and smoke shoot up from the Libyan-owned oil refinery on the eastern tip of Lake Geneva, suggesting one of Moammar Gadhafi's outposts in Europe is still in business. As world powers tighten their military and financial grip around his regime, some governments are hesitating to freeze all of the assets controlled by the North African country's repressive ruler. An Associated Press investigation has found that several European countries have accepted assurances from Libya's Tamoil petroleum company that none of its profits reach Tripoli. In return, Tamoil has been allowed to continue operating unchecked, despite the fact its parent company is on a United Nations sanctions list. Officials at Tamoil's European headquarters didn't return requests for comment, but representatives at four of the group's national subsidiaries said they were abiding by the sanctions. \"\"No money from the gas stations flows, directly or indirectly, to persons or institutions subject to sanctions,\"\" Catrin Bedi, of Tamoil's German subsidiary, told AP. All money was reinvested to expand the German operation, she said. Yet experts say European governments are being naive, or simply self-serving, in an attempt to protect European jobs and oil supplies. \"\"It's a political decision. It would be naive to think that Tamoil is independent,\"\" said Zurich-based money-laundering expert Michael Alkalay. He said Western governments that readily did business with Libya in recent years now criticize Gadhafi's regime but are doing little to clamp down on its assets, the most visible of which is Tamoil whose logo fronts gas stations from the Baltic Sea to the Mediterranean. Gary Hufbauer, a former U.S. Treasury deputy assistant secretary in the Carter administration, said European governments _ which like the U.S. have frozen Libyan cash deposits in their banks _ are essentially taking Tamoil's word for it that the profits won't get back to Gadhafi. \"\"If the Europeans are serious about imposing the freeze, they shouldn't be allowing any money to be paid if it's going to any part of the Libyan regime,\"\" said Hufbauer, now a senior fellow with the Peterson Institute for International Economics in Washington. World powers intentionally stopped short of naming Tamoil in their sanctions lists, he said, citing its importance to Europe. The company's Swiss branch is registered in the southwestern town of Collombey-Muraz, where it operates a 72,000 barrels-per-day refinery that supplies more than 300 gas stations throughout Switzerland. Sister companies in Spain, Germany, the Netherlands and Italy operate 2,500 more gas stations, and there are two other refineries in Hamburg, Germany, and Cremona, Italy. The refineries' combined capacity is 255,000 barrels of crude oil a day, or about 2 percent of the 14 million barrels that power Europe daily. Libya was producing 1.58 million barrels a day of crude oil in January, according to International Energy Agency figures. All are part of a Dutch-based holding company, Oilinvest (Netherlands) B.V., whose sales ran to some $10 billion in 2009. Oilinvest, in turn, is owned by the Libyan Investment Authority, the country's sovereign wealth fund estimated to be worth $65 billion. Last month, the LIA was placed under international sanctions on the grounds that it is controlled by Gadhafi or persons close to him. Tamoil's links to the regime, however, aren't enough for Switzerland to shut it down, according to the Swiss State Secretariat for Economic Affairs, or SECO. \"\"Tamoil has pledged in writing to SECO to fully respect the sanctions imposed by the Swiss Federal Council, in particular not to make any payments or transfer other assets, in whichever form, to natural or legal persons who are subject to sanctions,\"\" spokeswoman Antje Baertschi told AP. She acknowledged that Switzerland isn't checking whether Tamoil is living up to its pledge, nor could she say when Tamoil made its last payment to Libya. \"\"It's not possible to monitor all transactions,\"\" she said. A spokesman for Germany's Economy Ministry, who spoke on condition of anonymity, said Berlin was satisfied Tamoil would comply with international sanctions after receiving written assurances. Monitoring compliance was a matter for the prosecutors, he said. But in a sign that some Tamoil entities are prepared to go further to protect their operations, the company's German spokeswoman, Bedi, said an external auditor would be given access to its books. Meanwhile, Italy's Finance Ministry said in a statement last week that \"\"no freezing measure has been adopted toward Tamoil Italia S.p.a,\"\" which it said was \"\"collaborating with the authorities to ensure the adopted international sanctions are respected fully regarding the situation in Libya.\"\" Charles Huyskens, a spokesman for Tamoil's branch in the Netherlands, told AP the company had struck a deal with the Dutch government. \"\"The operation here is business as usual, but the guarantee is that they will not transfer money abroad or to any shareholder or whatever,\"\" he said. Finance Ministry spokesman Niels Redeker disputed this, saying the government was still in talks with Tamoil \"\"to prevent (cash) reserves from reaching entities on the banned list. But these are talks and have not led to any agreement.\"\" Dutch opposition lawmaker Harry van Bommel said Tamoil's many shell companies in tax havens _ from Monaco to Curacao in the Caribbean _ make it impossible to guard against Gadhafi's allies funneling money out of the company. \"\"All assets of Tamoil should be frozen, period,\"\" he said. \"\"We're talking about U.N. resolutions, we're talking about Gadhafi who is willing to kill his own people. Would he not ask a company under his control to transfer assets?\"\" U.S. sanctions apply to anything owned or controlled by the government of Libya, which would include Tamoil if it did business with or processed payments through the U.S., said a senior U.S. Treasury Department official, speaking on condition of anonymity because of the sensitivity of the matter. After Libya agreed to scrap its secret nuclear weapons program and compensate victims of terrorist attacks, the U.S. in 2006 rescinded its designation as a state sponsor of terrorism. And with the country emerging from international isolation, western firms rushed to sign oil exploration deals. Libya's more than 46 billion barrels of oil reserves are the largest in Africa and all but five percent of its exports come from oil. Flush with petrodollars, Libya invested heavily in foreign assets, from Spanish banks to Italian football clubs, and a growing network of petroleum companies in the long chain stretching from supplier to consumer. EU documents show that the 27-nation bloc has used financial sanctions against Iran, Iraq, Myanmar, North Korea, Yugoslavia, Zimbabwe as well as Libya. In recent years there have been increasing calls for \"\"targeted\"\" financial sanctions that aim to freeze a person or a company's profits, rather than shut it down and cause broader economic distress. Enrico Carisch, a U.S.-based Swiss field investigator who has worked for the U.N. enforcing sanctions against Somalia, Liberia, Congo and Sudan, said Tamoil's profits should be frozen rather than simply shut down. \"\"Every government has to conduct due diligence to make sure they are not inadvertently contributing to the problem,\"\" he said. \"\"The enemy is not Libyan workers, the enemy is not Libyan companies. The enemy is those who derive benefits from the Libyan oil and use them against the Libyan people.\"\" One argument for keeping Tamoil afloat is that any future government in Libya would be entitled to reclaim ownership over the company on behalf of ordinary Libyans. An attempt by Los Angeles-based private investment firm Colony Capital LLC in 2007 to buy a 65 percent stake in Tamoil and Oilinvest from the Libyan government valued the entire company at over $8 billion. The deal never came off. Sven Behrendt, a Geneva-based expert on sovereign wealth funds, said Tamoil may only be the most visible tip of the Libyan Investment Authority's assets. He recently ranked the LIA among the least transparent of some two dozen sovereign wealth funds, making it difficult for governments to fully know what it owns or controls. The most immediate threat to the company's operations may be its rivals. Royal Dutch Shell has halted a supply agreement with Tamoil in the Netherlands, citing the international sanctions. The parties are due in court next week. Meanwhile, a monthlong maintenance period at the Swiss refinery has been brought forward to April due to \"\"uneconomical margins,\"\" a spokesman there said. ___ \n",
            "Unveiled: Thirty years of big, fat celebrity weddings In 1981, as Britain was in the midst of a biting recession, Lady Diana Spencer married Prince Charles, while the world watched. Elizabeth Emanuel, designer \"\"Until Diana's dress, wedding gowns had been uniformly the same: white, ankle-length, A-line, long-sleeved. We brought the wedding dress into high fashion. Diana was introduced to us by Vogue; she didn't yet have her own sense of style, but she loved the very theatrical, fairy-tale dresses we made. When she asked us to make her wedding dress, it was life-changing. She told us to be secretive, but there were no instructions from Buckingham Palace, no protocol. There was so much speculation in the press after she wore a gown of ours to an official dinner, the Palace was forced to make an announcement through Reuters. The whole world went mad. There were photographers at the studio constantly and we had to take on security. We left false trails for the tabloids in the rubbish bins and we locked the dress in a trunk every night. We even made a spare dress in case our real design was leaked. On the day itself we realised this wasn't just a wedding dress, it was a moment in history. We dressed her at Clarence House, with the bridesmaids and the Queen Mother. Diana was excited but very calm. There was a moment, waiting for the coach, when we all stood in total silence for what seemed like an age. Then she stepped into the carriage and the crowds went mad.\"\" Nicky Haslam, interior designer and writer \"\"Princess Diana's wedding was extraordinary because it was a royal wedding. One thinks of watching the coronation on newsreels, there's this incredible formality to it, which doesn't exist now. It was certainly very traditional. There was a ball afterwards, given by the Queen, but Prince Charles and Princess Diana weren't there. In those days, the bride and groom left after their reception and went on honeymoon. To give a dance the night of your wedding was seen as incredibly bad form. The last thing you wanted was the bride getting reeling drunk so she couldn't consummate her marriage.\"\" Bruce Oldfield, designer \"\"The Eighties was a showy decade. I made a dress for an Australian bride in 1984. We had three appointments and each time she said the sketches weren't quite right, until she finally said, \"\"You've missed the point. We want our guests to know we've spent an absolute bloody fortune and that this is Australia's royal wedding!\"\". Even three or four years after Diana's fairy-princess dress, wedding gowns were changing to suit the times. This Australian bride wanted the full skirt, but also to be able to detach parts of the dress to reveal her very good figure; there were moves afoot to sex up wedding dresses.\"\" Rob Van Helden, florist \"\"I started my business in 1986. Back then, carnations and chrysanthemums were standard wedding flowers, now they're so unfashionable, as is the way flowers were arranged then – all mixed together in one big vase. People certainly didn't spend money on flowers. Weddings followed a simple routine: ceremony, reception, meal, dancing. The wedding party sat on a long table and the dance floor was in front of them. Now the DJ is flown in from Ibiza and there's a secret nightclub revealed behind a curtain at the back of the marquee.\"\" In the nineties, influenced by a growing culture of conspicuous consumption, weddings became more extravagant and individualised, assisted by changes in the law, in 1995, that meant civil ceremonies could now take place in castles, hotels or stately homes. Meg Matthews \"\"Noel [Gallagher] and I were going to get married on Valentine's Day, 1997, on a barge in Little Venice, but it got leaked to The Sun so we had to cancel it. Noel said, \"\"Leave it to me\"\". We went and had our suits tailored at Daniel James in Savile Row (I had an amazing white suit modelled on the one Bianca Jagger wore to marry Mick, and a hat with a veil). Noel said, \"\"The car is picking us up in the morning. We're going to get married. You can't tell anyone\"\". I remember passing Kate [Moss] on the stairs in the morning – she was living with us at the time – and I was carrying a huge hat box in my arms. I thought it was so obvious, but she didn't clock it. I knew we were going to Las Vegas, but it was still a secret operation. Noel and I flew there via Phoenix. My mum and dad flew via Chicago. Noel's mum, Peggy, came via somewhere else. We all met up at the Liberace suite in Caesar's Palace at midnight, got dressed, then went to the Little Chapel of the West to get married. They played The Beatles, there was a beautiful big cake, flowers – and bottles and bottles of chilled Cristal. Even Walkers crisps. It was about four in the morning by this time, then we all went for steak and eggs and hit the blackjack tables. It was so much fun, just us, our family and Noel's manager and his wife. There was all this rubbish printed about Noel being so drunk he couldn't remember his wedding, but he wasn't even drinking. I drank the Cristal! For our honeymoon, we went to New York. Everyone flew out – Dan Macmillan, Kate, DJ Shadow, we were all in our suite, partying. It wasn't about going away to a tropical island for a week – tradition wasn't in our heads. It was 1997, Oasis were at the peak of their career. It was rock'n'roll!\"\" Kate Halfpenny, bridal designer \"\"There were so many divorces happening in the late Eighties and early Nineties, marriage just wasn't as popular as it had been. Minimalism was in fashion so you had brides like Jemima Khan, in her elegant dress and jacket, or Carolyn Bessette-Kennedy in her simple white sheath dress.\"\" Rob Van Helden \"\"My first huge, huge wedding was that of Prince Pavlos of Greece, in 1995. I had never seen a wedding like it. It went on for four days and there were 1,200 guests. In the Nineties, flowers became a luxury business. The flower world became like the chef world. You had your celebrity chefs and your celebrity floral designers. \"\" Phillipa Lepley, bridal designer \"\"The fabrics got ever more sophisticated in the Nineties. Those slubby silk dupions, or rough taffetas, were out. The look was cleaner, straighter – though brides still wore sleeves, which is not the case now.\"\" The new millennium. After the recession of the late Nineties, a bullish economy was reflected in a rise in the average wedding costs, (from £10k in the 1980s, to £15k today), giving rise to a new wedding industry, worth millions of pounds – an industry which was quick to capitalise on the new laws regarding civil partnerships, passed in 2005, for gay couples, celebrated memorably by the wedding of Sir Elton John to David Furnish. Alice du Parq, Brides Magazine \"\"Martha Stewart launched her magazine in the US in 1994. It took a few years but by the beginning of the Noughties, her influence was being felt in the UK, too. Here was a new way to do weddings – personalised, bespoke, hyper-individualised – which focused on making a visual impression. Couples began to create a continuous theme between the venue, flowers, cake, bridesmaids, cocktail and table décor.\"\" Fiona Leahy, event planner \"\"A lot of upscale, modern weddings are a form of branding – they're a way for a couple to impart and share with guests their personal taste. The first wedding I organised was for Dita Von Teese and Marilyn Manson. Their stamp was on everything. It wasn't all plastic bats and striptease, it was chic, and quite Victorian in style. Couples are far more imaginative now with their weddings – especially since there's no pressure to get married at home. Huge numbers of couples now marry abroad, in France, Italy, Barbados.\"\" Bruce Oldfield \"\"Everything has become more casual in our society, so of course couples want their wedding to be less formal, just as every generation wants less formality than the previous generation. It's an easing up of the rigours – which, in a bride, means not having to have a veil over her face, or wear a tiara. Now a wedding is as much about the ceremony as it is about dancing and having a good time with friends.\"\" Nicky Haslam \"\"People clap in church now when the couple kiss. It's a completely new invention. You never had guests taking cameras into the church, taking pictures of the bride as she walked up the aisle. Nor would you have brides in strapless dresses in the church. Weddings have become more of a public spectacle. They're more a reason for everyone to get pissed. And they go on far too long – some are seven-hour marathons.\"\" Kate Halfpenny \"\"No bride wants that strapless, A-line dress that was so popular five years ago. Very few brides want a corset, either, because there is now this obsession with being comfortable on your wedding day. Veils have become very unpopular, they're seen as too old-fashioned. Which is funny because vintage has been, for the past 10 years, a huge trend in fashion. Some mothers of the bride I see absolutely adore the vintage dresses I make, because they remind them of what they wore themselves on their wedding day. Others hate them for the exact same reason. Although, brides are older now (and some onto their second or third marriages) so their mothers have far less say in what they wear – I've dressed brides for synagogue ceremonies who were definitely showing cleavage.\"\" Alice du Parq \"\"Princess Diana was just 20 when she got married. It's rare for a bride to be that young now – the average bride in the UK is 34. Today's 20-year-old is carving out a career, or finishing university, dating, and figuring out the type of woman she wants to be. She's not thinking about being someone's wife. Most couples live together for years before they decide to marry. It means that wedding lists have changed, too: people already have the kettle and toaster by the time they walk down the aisle. \"\" Tom Konig Oppenheimer, co-owner of PR firm, The Communications Store \"\"When the civil partnership law changed we initially didn't want to get married – Adam and I have been together for 14 years, we didn't feel the need. But then we thought, actually, it's an honour, especially because, for decades, our type couldn't be recognised like that. It was a first for everyone, including us. We'd never been to a gay wedding so we made it up from scratch. We married at Chelsea registry office, then we had 130 for dinner at Tramp's. I was working with Abercrombie & Fitch at the time; I thought, if we're going to be gay, we might as well be really gay, so we got the Abercrombie male models to come and serve vodka, semi-naked. I had recently \"\"won\"\" Thandie Newton at an auction – so she sang after dinner. Simon Sebag Montefiore wrote the evening up for The Spectator (God knows what they thought) and Vogue covered it too – it was the first time they'd featured a gay wedding. It was a lovely, joyous night.\"\" As the decade progressed, celebrity coverage became all-pervasive; couples could now imitate the weddings they saw in glossy magazines. And with the advance of the internet into our lives, couples could now access vast amounts of information – locations, flowers, food, themes – making the choice in how they wed almost infinite. Rob Van Helden \"\"I've done a few footballers' and celebrity weddings that have been covered in Hello!. You have to keep the flowers under sheets to stop the paparazzi at the door from spying. Brides often come to me with pictures of Hollywood weddings – though they don't realise quite how much those American florists charge. With the vast scope of magazines and the internet, there's so much more choice, and brides have become more choosy. It's no coincidence that the term, Bridezilla, has come about.\"\" Fiona Leahy \"\"The internet has made weddings more egalitarian. Unless you were royalty you wouldn't have your own monogram on your wedding invitation. Now, with computer-generated software, you can make your own. It's given couples more freedom to be individual and creative. It follows from the way we live now: we blog, we Tweet. It's all about self-definition.\"\" Weddings became increasingly lavish, until, in 2007, the credit crunch strikes. Rob Van Helden \"\"The build-up of spending power, up till 2007, was incredible. It was all about more, more, more, and, \"\"God, did you go to that wedding where there were 20,000 white roses?\"\". Then we were all brought back down to earth. People have started to believe in the elegance of a wedding, the simplicity. That less is more. It's all about a more relaxed sensibility at weddings now.\"\" Fiona Leahy \"\"At a wedding in the Middle East, I organised, as favours for the guests, mahogany boxes containing individual perfume bottles from Henry Jacques in Paris, worth £500 each. Another occasion, I had to track down albino peacocks for an all-white themed reception. I've had to fly wedding cakes, business class, in their own seats, and send a driver to France to pick up foie gras for a wedding in Scotland. But I'm finding fewer people want to be ostentatious in that way now. People still want to be opulent, but in a less showy manner.\"\" Bruce Oldfield \"\"I opened my shop in Beauchamp Place in late 2009. The first six months were very, very quiet. People were tightening their belts, downscaling their weddings. There was suddenly something vulgar about spending masses of money on a single day.\"\" Vicky Ward, writer \"\"I wrote a book about Lehman Brothers. In August 2008, a senior-level banker at the firm had rented the biggest, most expensive house in St Tropez for his wedding. It was filled with his bride and all their guests, including those he'd flown over from the States at great expense, not least the photographer, Terry Richardson, who was there to take their wedding pictures. But where was the groom? Stuck in New York with a broken leg, and the shit about to hit the fan at Lehman's. No one in that office was going anywhere. In the end he got the red eye over to France, hobbled up the aisle – still wearing the clothes he flew in – saidhis vows, then got straight back on a plane and went home. God only knows how much money was wasted. Lehman's went down on 15 September. Talk about wedding of the moment.\"\" In reaction to the extravagance, and in line with Britain's growing eco-awareness, weddings moved towards more low-key celebrations. Mimicking the bohemian atmosphere of a music festival – or the traditional village fête – country weddings became all the rage. Kate Halfpenny \"\"The press say that I'm making Kate Moss's wedding dress – I'm not. I wouldn't be surprised if she had a quintessentially English wedding, teepees in an apple orchard, fairy lights, but with a rock'n'roll party edge. That kind of English wedding feels more modern than hiring the Dorchester and a sit-down dinner for 150.\"\" On 29 april, Prince William will marry Catherine Middleton at Westminster Abbey. Vicky Ward \"\"I think it's admirable William and Kate are conscious of austerity Britain, but this wedding is important for the world. No one will replace Diana, but Kate is the fairy tale again. There's no obscure, \"\"Whatever love is\"\", with this couple, they really do seem to be in love. And everyone wants a wedding that reflects that. We're in need of a fairy tale.\"\" Bruce Oldfield \"\"Royal weddings tend to be predictable, and this one will be predictable in so far as there are things that have to be done, in ways that are set. But there will certainly be some surprises. We're making quite a lot of things for the bridal party. People are going for it – hat makers are busy, shoemakers are busy, glove makers are busy. No one does a wedding like the English.\"\" \n",
            "The Saturday interview: Pearl and Daisy Lowe Pearl Lowe spent the mid-90s in a whirl of endless parties that led to addiction and depression. But she and her daughter Daisy are now a major force in fashion, writes Amy Raphael Last September a £35 vintage black polyester dress with a cream lace trim caused the kind of fuss in the fashion world usually reserved for Kate Moss's collections for Topshop. Designed by Pearl Lowe, once a minor Britpop star, the dress sold out in two hours. Peacocks, a budget retailer that managed to be around for over a century without generating much fuss, had to set up a waiting list for the first time in its history. Courtney Love tweeted a message to Lowe asking for a dress to be couriered to her New York hotel. Natalie Imbruglia and Sharleen Spiteri managed to get hold of one. And, after waiting for a few weeks, television presenter Holly Willoughby wore hers on This Morning. Lowe's new collection for Peacocks - a black dress with lace bows, a simple floral dress, a polka-dot dress - was launched this week. Fashion writers blogged and tweeted about the vintage-style dresses for weeks in advance. The collections sell so well because they are easy to wear and hugely flattering, with sleeves and nipped-in waists; they come in sizes 8 to 18 and manage to look unique, like great flea-market finds. The fact Lowe is so well connected helps, too. Before moving to a big house in Somerset with her family - she is married to Supergrass drummer Danny Goffey - she was part of the mid-90s Primrose Hill set that included Kate Moss, Sadie Frost, Sienna Miller, Jude Law and Rhys Ifans. It helps, too, that Lowe's daughter Daisy is a supermodel who has modelled her last two Peacocks collections. Daisy is equally well connected: her friend Alexa Chung bought the black polyester dress, and she is a regular on the catwalks of Vivienne Westwood and Chanel shows. Daisy has been modelling since she was signed by Select at 15 and, at 22, is the height of cool. Pearl Lowe reinvented herself a decade ago, when she started designing lace curtains and cushions; since 2006 she has been making handmade dresses, first for Liberty's and then for small London boutiques. She has always been a gifted self-publicist, inviting endless magazines and newspapers into her country house and appearing on the front of Hello! with Daisy when she married Goffey in late 2008. The press, both tabloids and broadsheets, has in turn been infatuated with Pearl for more than a decade. There has been a kind of car-crash fascination with Pearl's endless public discussion of her addiction to cocaine and heroin. Harriet Quick, fashion features director of Vogue, says that \"\"the raw material of Pearl and Daisy's story is not great; it's not as though Pearl married Keith Richards.\"\" But, she adds, \"\"in the last five years, fashion has opened up and it's become easier for people to think, \"\"I can do a line.\"\" We are following on from America, where everyone wants to make a buck out of fashion. And the fact that Pearl also has a \"\"back from hell\"\" story obviously touches people.\"\" When I meet Pearl for lunch at Babington House, a private members' club near her Somerset home, she has been talking for less than 10 minutes before suddenly announcing: \"\"I've been six years sober! Six years!\"\" There's no one around to overhear such a declaration. Perhaps Pearl, 40, is not so much telling the world as herself: as a recovering addict, she needs to keep celebrating her sobriety. She certainly looks great, with those big, generous eyes, a long bob and a dog walker's lithe body. She sips orange juice and texts Daisy, who is in her room with her boyfriend, Matt Smith, taking a nap. Pearl and Daisy are a unique mother-daughter act: Pearl is married to a rock star (albeit the drummer of a band that no longer exists), while Daisy is dating the incumbent Doctor Who, Matt Smith. Yet the reality of their relationship is not cool at all: as Daisy was growing up, Pearl was regularly taking drugs. It defines each of them to a degree; it makes you wonder if Daisy is angry. And yet here she is, drifting through the restaurant in a pretty dress, tights, black boots and a battered, expensive-looking leather jacket. She kisses her mum, hugs her tight and steals her orange juice. When dressed up for fashion shoots, Daisy is often overtly sexual and provocative; today she is virtually free of makeup, and ridiculously beautiful. They chat for a while as though alone. Pearl: \"\"Did you hang out in the bar last night?\"\" Daisy: \"\"No, we had dinner and went to bed. We were supposed to watch the Banksy film and Black Swan and go for a night walk. But we just fell asleep. I woke up at 5.30am and all the lights were on, the curtains were open ...\"\" She gasps. \"\"Ohmigod, we found two frogs in our room, one on top of the other. I think it was a baby frog and a mother frog. They were really cute but we had to pick them up and take them outside. Well, Matt had to.\"\" She catches herself, glances at me: it's clear that Smith is out of bounds. Pearl, oblivious, keeps on chatting. \"\"I'm so happy Daisy isn't like I used to be; I don't just mean not going to the bar last night, but her general lack of interest in big nights out.\"\" Daisy smiles. \"\"I'm always calling mum and saying, \"\"I don't want to go to this party, do I have to go?\"\" Don't get me wrong, I like to have a good party sometimes. But I really like having my friends over, cooking for them, dancing and then doing some painting. It's a really good night in ... \"\" It doesn't sound very rock'n'roll. \"\"If you're talking about drugs, they don't agree with me; I'm too sensitive for them.\"\" It seems that Daisy rebelled against her mum and Danny, whom Pearl met when Daisy was six, by deciding to be resolutely straight. Pearl has three children with Goffey - Alfie, 14; Frankie, 11, and Betty, 5 - and has been sober only since conceiving Betty. NME used to make nasty jokes about her giving birth to Alfie in the toilets of the Dublin Castle pub in Camden. For many years, taking drugs with a host of other north London celebrities was part of Pearl's life. She insists, however, that her kids were oblivious to the drugs. \"\"People used to be round at ours all night and then Danny would start ordering cabs while I opened the windows, lit the Diptyque candles and got the Hoover out. At 6am I'd finally go to bed and then get up and take the kids to school.\"\" I ask Daisy what this was like for her. \"\"I was aware there were lots of cool people in the house. I had no idea mum was doing drugs.\"\" Pearl continues: \"\"When Daisy was 16 she asked me if I'd ever smoked spliff ... \"\" Daisy smiles and pokes at her green minestrone soup. It has been suggested in other interviews that Pearl was often so out of it that Daisy had to look after Alfie and then Frankie, changing their nappies and feeding them. Daisy, laid back until now, sits up straight and almost shouts. \"\"No, no, no. I've always talked about having a strong maternal instinct ... when Mum was pregnant with Alfie, everyone kept saying that I was going to be really jealous of the baby. I took it upon myself to go against what everyone expected and look after him. I would always wake up early - as young kids do - and give him formula, watch Rugrats with him.\"\" Pearl: \"\"Bearing in mind I'd have done the night feeds with him.\"\" Daisy, shrugging: \"\"I was just trying to be a nice daughter.\"\" If this is well-rehearsed PR banter, it doesn't feel like it. Possibly because, as the conversation continues, it becomes clear that it has taken hard work for Pearl and Daisy to be so close. Pearl has always struggled with depression; when Frankie was five she sought help in a clinic. \"\"It wasn't easy. Danny was away on tour with Supergrass so much, and looking after the kids was down to me. I was dreadfully unhappy.\"\" Eventually, she began to realise that she had to leave London, the drugs, the social life, the madness. She found a house to rent in Hampshire and was all set to leave when Daisy, then 15, announced she wasn't coming. \"\"It was the worst period of my entire life,\"\" says Pearl. \"\"I can seriously say that I felt like ending it all. I didn't want to split my family up. I knew that if I stayed in London I wouldn't survive.\"\" Daisy edges first towards her mother and then to the other end of the table, where she spears broccoli as she talks. \"\"But I didn't understand that; I was only 15. I was a pain in the arse, but I didn't want you to go. I didn't want you to leave London. We had to keep talking and talking, but it was ... \"\" She drifts off. \"\"Let's just say there's been a lot of healing since then.\"\" Daisy moved in with her maternal grandmother, got a Saturday job at Agent Provocateur and signed to Select Models. To the outside world it looked as though Daisy's life was charmed. The reality was much more complicated. For years she had wanted to know who her biological dad was; Pearl had assumed it was Bronner Handwerger, a holistic doctor now based in San Diego with whom she had a short relationship. But Daisy worked out that, because of their respective blood groups, he couldn't be. Pearl puts her hand on Daisy's arm and says softly: \"\"In a way I was too scared to find out. I kept thinking it was too late, but it's never too late.\"\" Pearl suspected it might be Gavin Rossdale, a British rock star now living in LA who was once her best friend. \"\"I kept looking at Daisy's eyes and nose and thinking I couldn't live a lie any more.\"\" So, when Daisy was 15, Rossdale took a paternity test and discovered he was her father. Pearl says Rossdale has refused to talk to her since finding out - \"\"I lost a best friend, but found the truth\"\" - while Daisy is in regular contact with him. She looks at her mum. \"\"I hate the fact that you two don't get on. It would make life a lot easier and brighter if you did.\"\" I ask Daisy if she too suffers from depression. \"\"I've definitely got it in me. I'm better than I've ever been. I've given myself a hard time in the past: you've got a lovely family, a great boyfriend, great friends, a great job - it's so out of order for you to feel this way. As soon as I stood up and stared it in the face, I accepted it. It flies away a lot faster.\"\" Out of the window I spot Smith striding up and down the lawn, learning his lines for the next series of Doctor Who. Daisy stares out of the window and smiles. \"\"Aaaah, bless him!\"\" We all three gaze at him for a moment. Daisy pulls herself away first. \"\"Mum and Danny did everything they could for us, sending us to the best schools, making lovely family dinners, letting us have friends round, encouraging us to be open. Granted, my childhood wasn't conventional, but it was full of love. \"\"If ever I'm in trouble I ring my mum. She knows me better than anyone and has great life experience. There is no one else that can fix problems like she does.\"\" In 2007, Pearl wrote a memoir of addiction, All That Glitters, about the years in London that almost killed her. She still grimaces when talking about those hazy years and how she wasn't \"\"the best mother I could be\"\". With anyone else, this might be maddening, but with Pearl the sentiment is so heartfelt it's hard to feel angry, although you do wonder if she will ever be at peace with herself. A little later, I see Pearl, Daisy and Smith huddled together at one end of a bench in the garden. It's the first warm day of the year and there's no reason for them all to be sitting so close together, and they have no idea I can see them. Whatever Pearl may have done wrong, she also did something right. \n",
            "My favourite particle: the neutrino I started writing about neutrinos because I love them. They are quite magical really; the Universe is completely swarming with them (they are the second most abundant particle after photons) but we know practically nothing about them. And what we do know is really weird. I wrote down \"\"My favourite particle: the neutrino\"\" to fit in with the other particle articles. But it isn't my favourite particle. I toyed with \"\"Not my favourite particle: the neutrino\"\" but that just felt disrespectful. Then I decided it doesn't matter what I write at the top of the page. Why do I need this post to fall into line with the others? I suppose it's because I want symmetry. I want that warm, comfortable-yet-exciting feeling you get when starting to read the next book in a trilogy. The neutrino was postulated (imagined-up) for a similar reason: the desire for symmetry. A hundred years (ish) ago there was lots of great experimental science going on. There was no clear idea what atoms were, but there was an understanding that they weren't solid balls. Ernest Rutherford and others had established, through experiments, that there was a nucleus in the center of an atom and had postulated that electrons were \"\"in orbit\"\" around this nucleus. He came up with this description based purely on his experimental results: there was no theory at the time that predicted this. I feel quite nostalgic for this sort of experiment-driven theory. In the era of the LHC it is not the done thing to come up with a new theory to describe what we see experimentally. In general, our results have to fit some theory that has already been proposed. When they don't (they don't) we tune the theoretical predictions to match our data, like twiddling a load of knobs (most of these theory predictors, which we call Monte Carlo, have twenty or thirty knobs) until we get some agreement. I am moaning about this, but really we don't have a choice. Anyway, back to the good old days. Something called Beta decay had been observed. They had a name for it before they knew it for what it was. It was a nice bit of real-world, useful, observational science. It was noticed that some atoms would emit radiation without any provocation to do so. This is what we call radioactivity. Active radiation. Nothing to do with the radio, other than that radio also works via radiation. Radio is carried by electromagnetic radiation (my first love - the photon). What radiation is is the loss of energy by something. That energy invariably travels somewhere else in some form or other. But the thing with radioactivity is it is not deliberate. It just happens \"\"naturally\"\". When first discovered it triggered a whole host of money-making schemes, similar to modern-day homeopathy I suppose, except homeopaths make their millions out of plain water and packaging, whereas back in the day the quacks were raking it in by selling people radioactive face-cream. The scientists rebelled, lots of people got cancer and the business end closed. I laughed at these adverts and showed my mates, and then I felt really sad because I thought about people in the future (okay, the present) laughing at my friends for buying 0% proof hogswart. Anyway (again), the science continued, and we realized that what was happening was that part of the atom, in fact part of the nucleus, was \"\"decaying\"\". It was established that the radiation being emitted was electrons, because the measurement of the emitted particles' charge and mass was exactly the same as for electrons. The electrons weren't being thrown \"\"out of orbit\"\", they were being emitted from the nucleus. This is interesting, because the atomic nucleus only contains protons (with a charge of +1) and neutrons (with a charge of zero). To get a negatively charged particle out of this we thought that the neutron must decay into a proton and an electron: zero charge= +1 and -1. Great. This fitted nicely with the experimental measurement of the atom before and after it went through Beta decay. But this is where things stopped being comfortable. This picture predicts precisely the energy that the emitted radiation (the electron) must have. Depending on what kind of atom is doing the decay, we should be able to predict exactly how much energy the electron has.When they measured the energy carried by these emitted electrons, they found that the electrons could have any energy. This was a huge problem because conservation of energy was (and is) the closest we get to feeling comfortable with any knowledge in particle physics. It always works. We don't have to appeal to the fact that the theory is beautiful and elegant, we just do cold, hard experiments. And warm, soft ones. Any kind of one. We always get the same answer: energy is conserved. Always. But not in radioactivity. Wolfgang Pauli wasn't having any of it. There must be something else emitted, something that the instruments were not detecting. Pauli described the properties that this invisible particle must have; It is neutral (no charge), it has a small (or zero) mass and it has spin half like the electron. If the new particle was emitted along with the electron, then the electron could have any energy, because the total energy emitted could still add up to be the exact value predicted by the theory. The new particle would have to be a ghost, traveling through matter without interacting at all. Then we could explain why it was not detected. Of course this was not a comfortable place to be, but it was slightly less uncomfortable than violating the law of conservation of energy. Pauli was aware of his responsibility, famously saying \"\"I have done a terrible thing. I have postulated a particle that cannot be detected\"\". Wolfgang Pauli: he knew his stuff. Is it okay to make a prediction that we cannot test? Science is about trying to describe the way the world works; our understanding should be based on what we observe and our theories should be testable. This is why some experimentalists laugh at string theory. I for one am happy to ignore it until someone comes up with a way for us to test its validity. Okay, some of the reason I ignore it is because it is hard, but I would be much more inclined to make the effort if I thought it was any use. Thankfully, the little neutral ones, neutrinos, can be detected. It is just very, very difficult to do. This is because they simply do not interact with the particles that make up matter. Neutrinos can fly past an atom as if it were not there. They are neutral, so they are not affected by electromagnetic fields. The only thing in nature they have anything to do with is the weak nuclear force, so they tend to just whizz through the universe, through planets and through us, leaving no trace. We do detect the odd one. The first was 25 years after Pauli's prediction, by Cowan and Reines. Back in 1987 we saw a whopping 24 of them in just a few seconds, thanks to a supernova going off in the vicinity. But generally they are a bugger to catch. So what do we know about neutrinos now? Almost nothing, but the little bit we do know is very interesting indeed. The standard model of particle physics (the theory that we are most happy with when putting together all the little bits of knowledge we have gathered from thousands of experiments over a hundred years) tells us that neutrinos have no mass, like photons. We now know that this is not the case. Neutrinos do have mass. We know that the three kinds of neutrinos must all have different masses, so at least two of them cannot be zero. I feel like nobody really talks about this. Perhaps I hang out with the wrong kind of physicists. Neutrino experiments have shown the standard model to be deeply flawed, yet we still persist in calling it \"\"the standard model\"\". I have finished writing this now without actually saying a single thing about why I love the neutrino. I haven't mentioned that they are able to change flavour (neutrino oscillations) or that they could be their own antiparticle (are they Majorana or Dirac particles?) or that they can help us understand dark matter, or that the fate of the universe is in their hands. Each one of these things is completely deserving of its own post, written by someone who knows their onions and is able to write something that is not 90% digression. \n",
            "Google founder hopes to prove he's ready to lead Larry Page takes over as CEO Mon., replacing Eric Schmidt, a veteran Silicon Valley executive (AP) SAN FRANCISCO - Google co-founder Larry Page is known for his vision, passion and intelligence. Yet there is a fair amount of concern that Page's other known traits  his aloofness, rebellious streak and affinity for pursuing wacky ideas  might lead the company astray. Page takes over as CEO on Monday as fast-rising rivals and tougher regulators threaten Google's growth. Investors used to Google Inc.\"\"s consistency in exceeding financial targets worry that new leadership will bring more emphasis on long-term projects that take years to pay off. And many people still aren't sure he has enough management skills to steer the Internet's most powerful company. Page already has learned that smarts alone won't make him a great leader. Although Page impressed Google's early investors with his ingenuity, they still insisted that he step down in 2001 as Google's first CEO. He turned over the job to Eric Schmidt, a veteran executive who began working in Silicon Valley in the early 1980s while Page was still in grammar school. Gmail Motion: Google's revolutionary new technology Page's admirers say that at 38, he is more mature and less apt to be chronically late to meetings or tune out of conversations that don't stimulate his intellect  habits that he fell into during his first stint as CEO. \"\"There are parts of being CEO that don't fit Larry's personality,\"\" said Craig Silverstein, the first employee that Page and Google's other founder, Sergey Brin, hired when they started the company in 1998. \"\"You wear a lot of different hats when you're CEO. Some of them are very interesting to Larry and some of them, presumably, are less interesting.\"\" True to his taciturn form, Page hasn't said much publicly since Google made its stunning announcement in January that he will replace Schmidt as CEO. Google said Page wasn't available for an interview. Page, though, has left little doubt about his top priority: to dissolve the bureaucracy and complacency that accompanied the company's rapid transformation into a 21st-century empire. Google is expected to end the year with more than 30,000 employees and $35 billion in annual revenue. In Page's mind, the 13-year-old company needs to return to thinking and acting like a feisty startup. Rising Internet stars such as Facebook, Twitter and Groupon, all less than 8 years old, are developing products that could challenge Google and make its dominance of Internet search less lucrative. Page has drawn comparisons to two high-tech geniuses who are even more accomplished: Microsoft Corp. co-founder Bill Gates and Apple Inc. co-founder Steve Jobs. Like those two pioneers in personal technology, Page invented and cultivated a product that changed the world. But Page has yet to match them in this respect: as CEOs, Gates and Jobs brought out the best in the companies that they created, delighting stockholders as their investments soared. Page doesn't fit the CEO mold, even by the standards of Silicon Valley's free-wheeling culture. He dropped out of graduate school at Stanford to start Google and doesn't have a business degree. Science and technology, though, seems to be in his DNA even though he grew up in Michigan, where automobiles rule. His late father, Carl, was a computer scientist and pioneer in artificial intelligence, and his mother taught computer programming. Page began working on personal computers when he was just 6 years old in 1979, when home computers were a rarity. The geeky impulses carried into his adulthood, leading him to once build an inkjet printer out of Legos. Page relishes challenging the status quo and encourages his employees to do so, too. Those who know Page suspect he picked up the anti-establishment mindset as a boy who attended Montessori schools, which discourage structured curricula and encourage independent activities. Page has wanted to control his own destiny  and legacy  since reading a biography of the inventor Nikola Tesla before he was even in high school. Tesla wasn't rewarded or widely recognized for his breakthroughs in X-ray, wireless communications and electricity. Page didn't want that to happen to him as an entrepreneur. For that reason, Page embraced the chance to be Google's CEO when the company started in a rented garage not far from the company's current headquarters in Mountain View, Calif. It also helps explain why he and Brin created a separate class of stock with greater voting power so they and Schmidt could remain in charge after the company went public in 2004. Page's stake in Google has made him one of the world's wealthiest people with an estimated fortune of $20 billion. Although the contours of his personality and background are known quantities, Page remains an enigmatic figure on Wall Street. To some, he remains best known for uncompromising idealism, reflected in his embrace of his company's \"\"Don't Be Evil\"\" motto and his pledge to never cater to investors\"\" desire for ever-rising quarterly earnings at the expense of long-term investments. Page already raised concerns by pushing Google into renewable energy and robotic cars. Those who know him say he has discussed even more far-flung projects behind closed doors. \"\"Sometimes his ideas are just way out there and you're kind of like, \"\"Wow, that came out of left field,\"\"\"\" said Ethan Anderson, a former Google product manager who now runs Redbeacon, a startup that operates a search engine for finding neighborhood businesses. Uncertainty about whether Page will be as interested as Schmidt in appeasing Wall Street has contributed to a 6 percent drop in Google's stock price since the CEO change was announced Jan. 20. The technology-driven Nasdaq index has added 3 percent during that time. BGC Financial analyst Colin Gillis doesn't believe it's a coincidence that Google revealed it would hire more than 6,200 employees this year  a 25 percent boost, and the most in its history  less than a week after it announced Page's comeback as CEO. \"\"Don't be surprised if Google's spending goes up, even it means its earnings per share might go down,\"\" Gillis said. Page's supporters believe Google's current market value of about $190 billion will climb even higher under his leadership. That would mirror what happened after Jobs finally got his chance to run Apple in 1997 after a decade in exile. Since then, Apple has brought out the iconic iPod, iPhone and iPad devices and created more than $300 billion in shareholder wealth. But the returns of company founders haven't always been triumphant. Consider Yahoo Inc. co-founder Jerry Yang's second stint as CEO from June 2007 to January 2009. Yahoo's stock fell 56 percent during that period, larger than the 41 percent drop for Nasdaq. Unlike the rest of the Nasdaq, Yahoo shares aren't close to rebounding to their June 2007 levels. Hoping to smooth the transition to a new CEO, Google is keeping Schmidt, 55, in a prominent role as executive chairman and chief liaison with lawmakers and regulators around the world. That's an important job as Google faces growing scrutiny over its ambitions to use its dominance in search to enter new markets. Brin, 37, intends to focus on long-term projects, leaving Page to manage Google's daily operations. \"\"I am quite convinced that this change will result in faster decision-making, better success for the business and ultimately greater value for the shareholders,\"\" Schmidt told The Associated Press after Google announced its shake-up in January. In the past, the three made key decisions by committee, though Schmidt was the one responsible as CEO. Schmidt guided Google through an uninterrupted stretch of prosperity that has topped the performances of other technology trailblazers, including Apple and Microsoft, at similar stages of their corporate lives. Page is better prepared to be CEO after a decade as Schmidt's apprentice, said Douglas Merrill, who worked with both executives before leaving Google in 2008 as vice president of engineering. \"\"Larry has grown over time,\"\" Merrill said. \"\"He has learned how to make projects work. He has learned how to make sure things happen on time and in a predictable fashion. Larry is a sort of a learning machine.\"\" \n"
          ],
          "name": "stdout"
        }
      ]
    },
    {
      "cell_type": "code",
      "metadata": {
        "id": "K0Zjul3qvI_m",
        "outputId": "9c6839cf-874b-4a17-ecaa-2fbd2f621bd5",
        "colab": {
          "base_uri": "https://localhost:8080/"
        }
      },
      "source": [
        "from nltk import word_tokenize\n",
        "import nltk\n",
        "nltk.download('punkt')\n",
        "nltk.download('wordnet')"
      ],
      "execution_count": 5,
      "outputs": [
        {
          "output_type": "stream",
          "text": [
            "[nltk_data] Downloading package punkt to /root/nltk_data...\n",
            "[nltk_data]   Package punkt is already up-to-date!\n",
            "[nltk_data] Downloading package wordnet to /root/nltk_data...\n",
            "[nltk_data]   Package wordnet is already up-to-date!\n"
          ],
          "name": "stdout"
        },
        {
          "output_type": "execute_result",
          "data": {
            "text/plain": [
              "True"
            ]
          },
          "metadata": {
            "tags": []
          },
          "execution_count": 5
        }
      ]
    },
    {
      "cell_type": "markdown",
      "metadata": {
        "id": "4i_b-iPU22fj"
      },
      "source": [
        "В качестве мини-корпуса были выбраны 4 новостные сводки из корпуса 500N-KPCrowd-v1.1, который представляет собой сборник из 500 новостных заголовков на английском языке.\n",
        "\n",
        "Ключевые слова тех или иных текстов расположены в файлах с расширением key. Определить принадлежность можно по названию таких файлов - они должны совпадать с названием файлов с текстами.\n",
        "\n",
        "Пары типа \"текст-ключ\", которые были отобраны для анализа:\n",
        "\n",
        "1) business-20906848.txt - business-20906848.key\n",
        "\n",
        "2) fashion-20927364.txt - fashion-20927364.key\n",
        "\n",
        "3) fashion-20927531.txt - fashion-20927531.key\n",
        "\n",
        "4) science-20955108.txt - science-20955108.key\n",
        "\n",
        "5) tech-20932123.txt - tech-20932123.key"
      ]
    },
    {
      "cell_type": "markdown",
      "metadata": {
        "id": "oBWKdk6e3Dm1"
      },
      "source": [
        "#Задание 2"
      ]
    },
    {
      "cell_type": "markdown",
      "metadata": {
        "id": "yIGGubs2gdN-"
      },
      "source": [
        "## Эталон\n"
      ]
    },
    {
      "cell_type": "code",
      "metadata": {
        "id": "I4BzzvUgL2RV"
      },
      "source": [
        "ethalon_1 = ['Pearl Lowe', 'no', 'mother', 'The Saturday interview', 'writer', 'Daisy Lowe', 'Lowe', 'All That Glitters', 'Gav', 'fashion', 'dress', 'collection', 'Kate Moss', 'Peacock', 'model', 'started', 'married', 'decade', 'addiction', 'cocaine', 'heroin', 'frog', 'mum', 'Geoffrey', 'Alfie', 'Betty', 'Frankie', 'well', 'like', 'London', 'drug', 'Danny', 'room', 'Vivienne Westwood', 'Somerset', 'Rossdale', 'Sienna Miller',  'doctor']\n",
        "ethalon_2 = ['Diana Spencer', 'unveiled', 'Elizabeth Emanuel', 'Vogue', 'Buckinham Palace', 'are busy', 'Victorian', 'Hollywood', 'Prince Charles', 'Rob van Helden', 'Alice du Parq', 'fairy tale', 'royal', 'marry', 'Princess Diana', 'wedding', 'dress', 'gay', 'gown', 'like', 'ninety', 'Vicky Ward', 'Kate Halfpenny', 'Bruce Oldfield', 'Nicky Haslam', 'Fiona Leahy', 'Marilyn Manson', 'Westminster Abbey', 'Las Vegas', '2007', 'American', 'paparazzi']\n",
        "ethalon_3 = ['Long-term projects', 'Silicon Valley', 'executives', 'Investors', 'Eric Schmidt', 'company', 'Google', 'CEO', 'Larry Page', 'dominance', 'SAN FRANCISCO', 'Microsoft', 'Bill Gates', 'emphasis', 'Michigan', 'Mountain View', 'Yahoo', 'Colin Gillis', 'Steven Jobs', 'intelligence', 'robotic', 'Ethan Anderson', 'Sergey Brin', 'Facebook Twitter', 'Groupon', 'Wall Street', 'Gmail Motion', 'communications', 'Douglas Merrill', 'known quantities']\n",
        "ethalon_4 = ['Libyan investment authority', 'crude oil', 'Gadhafi', 'gas', 'Associated Press investigation', 'Tamoil', 'profit', 'SECO', 'Libya', 'Libyan', 'German', 'oil', 'Oilinvest', 'government', 'asset', 'chance', 'time', 'delay','Curacao','uneconomical','Catrin Bedi','North African','Antje Baertschi','Michael Alkalay','expert', 'sanctions list', 'Tripoli', 'January', 'dilemma', 'military', 'Netherlands', 'Hufbauer', 'LIA', 'Italia Spa']\n",
        "ethalon_5 = ['Favourite particle', 'particle physics', 'Active radiation', 'emitted', 'atomic nucleus', 'quacks', 'standard model', 'hundred years', 'neutral', 'Wolfgang Pauli', 'experiments', 'electrons', 'radioactivity', 'universe', 'zero', 'radioactivity', 'hundred years', 'observed', 'symmetry','Ernest Rutherford', 'in orbit', 'completely swarming','Monte Carlo', 'negatively charged', 'experimental measurement', 'homeopathy', 'Dutch', 'April']\n",
        "\n",
        "all_ethalons = ethalon_1 + ethalon_2 + ethalon_3 + ethalon_4 + ethalon_5"
      ],
      "execution_count": 6,
      "outputs": []
    },
    {
      "cell_type": "code",
      "metadata": {
        "id": "BowxD41APOki"
      },
      "source": [
        "total_list = fashion_1_k + fashion_2_k + tech_1_k + science_1_k + business_1_k"
      ],
      "execution_count": 7,
      "outputs": []
    },
    {
      "cell_type": "code",
      "metadata": {
        "id": "ZJ6LRmU6yDGr",
        "outputId": "baa5dc02-6ffe-4d24-f16d-6e063bc2aee8",
        "colab": {
          "base_uri": "https://localhost:8080/"
        }
      },
      "source": [
        "print(len(all_ethalons))\n",
        "print(len(total_list))"
      ],
      "execution_count": 8,
      "outputs": [
        {
          "output_type": "stream",
          "text": [
            "139\n",
            "524\n"
          ],
          "name": "stdout"
        }
      ]
    },
    {
      "cell_type": "markdown",
      "metadata": {
        "id": "sQRB7uVJyJms"
      },
      "source": [
        "Компиляция ключевых слов получилась меньше, чем сборка уже прилагающихся наборов к текстам. Тем не менее, были предприняты попытки объединить оба списка и найти слова, которые содержатся в каждом из них."
      ]
    },
    {
      "cell_type": "markdown",
      "metadata": {
        "id": "RG8DYIqtLvb0"
      },
      "source": [
        "###Объединение"
      ]
    },
    {
      "cell_type": "code",
      "metadata": {
        "id": "x3QApI5eA-3p"
      },
      "source": [
        "new_ethalons = all_ethalons + total_list"
      ],
      "execution_count": 9,
      "outputs": []
    },
    {
      "cell_type": "code",
      "metadata": {
        "id": "CCOPZmQBBYiM"
      },
      "source": [
        "snew_ethalons = list(set(new_ethalons))\n",
        "\n",
        "snew_ethalons = [x.lower() for x in snew_ethalons]"
      ],
      "execution_count": 10,
      "outputs": []
    },
    {
      "cell_type": "code",
      "metadata": {
        "id": "c2tPm8bLovxa",
        "outputId": "0556afde-b0ef-4379-9520-baaf8e5a5cb4",
        "colab": {
          "base_uri": "https://localhost:8080/"
        }
      },
      "source": [
        "print(snew_ethalons)"
      ],
      "execution_count": 11,
      "outputs": [
        {
          "output_type": "stream",
          "text": [
            "['cocaine', 'whopping 24', 'majorana', 'electromagnetic fields', \"valentine's day\", 'detected', 'finance ministry', 'colin gillis', 'extraordinary', 'fitted', 'based', 'imaginedup', 'percent', 'older', 'stimulate', 'treasury', 'programming', 'predicts', 'realworld', '72000', 'tamoil', 'known quantities', 'passing', 'consummate', 'water', 'petroleum', 'favourite particle', 'observational', 'changing', 'millennium', 'mountain view', 'no', 'libya', 'observed', 'effort', 'room', 'part', 'knowledge', 'moaning', 'honour especially', 'showed', 'theoretical', 'my favourite', 'london', 'responsibility', 'governments', 'bridal party', 'gmail motion', 'wall street', 'tougher', 'radiation', 'ingenuity', 'blackjack tables', 'interact', 'libyan investment authority', 'uneconomical margins', 'picking', 'rossdale', 'reflects', 'refinery', 'elton', 'britain', 'flawed', 'steak', 'interior designer', '300 billion', 'elizabeth emanuel', 'gadhafi', 'radioactivity active radiation', 'bruce oldfield', 'german', 'reinvested', 'diego', 'abercrombie', 'fashion', 'us', 'las vegas', 'bits', 'experimentdriven', 'catrin bedi', 'chronically', 'electrons', 'theatrical fairytale', 'marathons', 'un resolutions', 'happening', 'rage', 'frozen libyan', 'are busy', 'table dcor', 'antje baertschi', 'replacing', 'incredible formality', 'nineties', 'grammar', 'physicists', 'scratch', 'kate moss', 'dress', '10', 'morning', 'regular on', 'genevabased', 'danny', 'pursuing', 'taciturn', 'switzerland', 'little', 'executives', 'standard model', 'tripoli', 'american florists', 'remember', 'radioactivity', 'ninety', 'absolutely', 'celebrity weddings', 'comfortableyetexciting', 'chicago', 'theatrical', 'long-term projects', 'lia', 'thandie', 'gathered', 'speculation', 'unveiled', 'exceeding financial', 'steven jobs', 'showing', '530am', 'garage', 'dominance', 'swiss refinery', 'ceo', 'couple', 'jacket', 'saidhis', 'delay', 'theory predictors', 'traditional', 'xray', 'management', 'mentioned', 'well', 'minimalism', 'curacao', 'emitted electrons', 'vicky ward', 'validity', 'longsleeved', 'thinking', 'assets', 'drug', 'robotic', 'including', 'hotels', 'returns', 'reason', 'communications', 'married', 'new york', 'background', 'the saturday interview', 'vivienne westwood', 'biting recession', 'particle', 'infinite', 'negatively charged', 'included', 'busy shoemakers', 'carter', 'great experimental', 'figure', 'plastic', 'introduced', 'spectacle', 'elegant dress', 'artificial', 'emitted', 'progressed celebrity', 'simple routine ceremony reception meal dancing', 'my favourite particle', 'glossy magazines', '27nation', 'north african', 'liberace', 'geoffrey', 'mass', 'prince charles', 'big', 'stations', 'eu', 'increasingly', 'ipad', 'trunk', 'government', 'selfpublicist', 'chance', 'coincidence', 'fabrics', 'decade', 'oilinvest', 'fastrising', 'alfie', 'concern', 'swiss field investigator', 'conscious', 'elegance', 'monitoring compliance', 'emphasis', 'lowe', 'tamoil petroleum', 'instructions', 'calif', 'redbeacon', 'brought', 'growth investors', 'physics', 'insisted', 'incredible', 'moammar', 'internet', 'uneconomical', 'mahogany boxes containing individual perfume bottles', 'shareholder', 'thinks', 'photographer', 'heroin', 'prediction', 'relaxed sensibility', 'tradition', 'german subsidiary', 'american', 'spencer', 'michigan', 'real design', 'ceremony', 'flames', 'church', 'dirac particles', 'richardson', 'themed reception', 'hufbauer', 'microsoft', 'big cake flowers', 'company oilinvest netherlands bv', 'seco', 'sophisticated', 'europe', 'articles', 'leaked', 'obscure', 'individualised assisted', 'bridezilla', 'groom', 'collection', 'tropical island', 'expense', 'tailored', 'kate halfpenny', 'lake geneva', 'all that glitters', 'experimental science', 'clarence', 'in orbit', 'universe', 'impressed', 'luxury', 'tighten', 'rigours', 'uniformly', 'favourite particle', 'traits', '65', 'personality', 'computergenerated software', 'protocol', 'taffetas', 'neutral', 'secretive', 'initially', 'celebrating', 'reaction', 'eggs', 'conservation', 'unpopular', '2009', 'gav', 'universe', 'announcement through', 'eric schmidt', 'organised', 'photons', 'neutrinos', 'international sanctions', 'collombeymuraz', 'celebrity', 'packaging', 'lovely', 'decades', 'crisps', 'traditional village', 'fitch', '150 on 29', 'pissed', 'registry', 'incredibly', 'anklelength', 'imaginative', 'april', 'abundant particle', 'writing', 'spanish', 'experimentalists laugh', 'communications', 'realised', \"britain's\", 'zurichbased', 'gown', 'generation', 'reveal', 'bill gates', 'conspicuous consumption', 'style', 'late', 'craig silverstein', 'celebrations mimicking', 'dinner', 'brides magazine martha stewart', 'buckinham palace', 'money', 'family', 'spending', 'popular', 'simplicity', 'repressive ruler', 'expert michael alkalay', 'pearl lowe', 'started', 'ecoawareness', 'fairyprincess', \"gadhafi's\", 'paparazzi', 'to supergrass', 'drinking', 'magazine', 'furnish', 'rob van helden', 'industry', 'zero', 'honeymoon', 'modelled', 'investors', 'opulent', 'daisy lowe', 'obvious', 'antiparticle', 'theories', 'toaster', 'geneva', 'australian', 'vulgar', 'dilemma', 'midnight', 'peterson', 'assistant secretary', 'experimental measurement', 'pearl', 'predicted', \"libya's\", 'princess diana', 'dupions', \"moammar gadhafi's\", 'hundred years', 'baertschi', 'experiments', 'westminster abbey', 'sergey brin', 'spokesman', 'doctor', 'postulated', 'betty', 'registered', 'oil', 'mediterranean gary hufbauer', 'larry page', 'iran iraq myanmar north korea', 'peacock', 'ethan anderson', 'bespoke', 'manner', 'behrendt', 'polyester', 'diana spencer', 'frankie', 'straighter', '2007', 'january', 'happened', 'aloofness', 'chilled', 'revolutionary', 'bureaucracy', 'branch', '8 billion', 'michael alkalay', 'society', 'dresses', 'sleeves', 'google founder', 'announcement', 'extravagant', 'predictable', '1981', 'ignore', 'fleamarket', 'coronation', 'fairy', 'google', 'monte carlo', 'watching', 'military', 'libyanowned', 'company', 'great', 'select models', 'douglas merrill', 'pictures', 'sheath dress', 'expert', 'stopped', 'surprises', 'creative', 'matter', 'frog', 'associated press investigation', 'sanctions list', 'dutchbased', 'italia spa', 'constantly', 'gay', 'cultivated', 'nicky haslam', 'william', 'dutch', '20yearold', 'ernest rutherford', 'played', 'sienna miller', 'moment', 'security', 'financial', 'symmetry', 'amazing', 'measurement', 'peacocks', 'choosy', 'wolfgang pauli', 'weird', 'completely swarming', 'nucleus', 'lhc', 'watched', 'manager', 'tightening', 'cleavage', 'expensive', 'model', 'history', 'tabloids', 'who', 'law of conservation of energy', 'vogue', 'rubbish', 'sketches', 'wedding', 'quacks', 'wanted', 'reuters', 'victorian', 'ordinary libyans', 'recession', 'committee', 'asset', 'venue flowers cake bridesmaids cocktail', 'visual impression', 'oldfashioned', 'mother', 'extravagance', 'profit', 'continuous', 'spying', 'alice du parq', 'features', 'occasion', 'san francisco', 'atomic nucleus', '130', 'unveiled', 'figuring', 'finishing university dating', 'recovering', 'rebellious', 'changed', 'eighties', 'time', '1997', 'schmidt', 'vodka seminaked', 'afoot', 'carter administration', 'dancing', 'every government', 'stamp', 'austerity', 'monaco', 'silicon valley', 'bridal', 'house', 'appointments', 'chrysanthemums', 'buckingham palace', 'particle physics', 'operation', 'sadie', 'synagogue ceremonies', 'intellect', 'hollywood', 'individual', 'numbers', 'onions', 'locked', 'rubbish printed', 'crude oil', 'trails', 'huge problem', 'newsreels', 'electromagnetic radiation', 'smoke', 'ipod iphone', 'bridesmaids', 'designers', 'partying', 'gas', 'libyan', 'groom left', 'quick', 'writer', 'absolute', 'intelligence', 'striptease', 'uncomfortable', 'business', 'kettle', 'fiona leahy', 'mum', 'marilyn manson', 'ownership', 'royal', '20 when', 'enrico carisch', 'filled', 'detach', 'trilogy', 'laughed', 'ostentatious', '158', 'addiction', 'admirable', 'fairy tale', 'asked', 'groupon', 'bottles', 'homeopathy', '1994', 'finally', 'vintage dresses', 'neutrino', 'egalitarian', 'somerset', 'marry', 'netherlands', 'facebook twitter', 'hesitating', 'beta decay', '20000', 'height', 'like', 'photographers', 'decaying', 'yahoo', 'designer']\n"
          ],
          "name": "stdout"
        }
      ]
    },
    {
      "cell_type": "markdown",
      "metadata": {
        "id": "wLkXMjjLL6wK"
      },
      "source": [
        "###Пересечение"
      ]
    },
    {
      "cell_type": "code",
      "metadata": {
        "id": "IRtk-8zwL5gh",
        "outputId": "dbb07df0-9101-49ff-ecb5-1fb9275db380",
        "colab": {
          "base_uri": "https://localhost:8080/"
        }
      },
      "source": [
        "cross_ethalons = []\n",
        "\n",
        "for e in all_ethalons:\n",
        "  if e in total_list:\n",
        "    cross_ethalons.append(e.lower())\n",
        "\n",
        "print(cross_ethalons)\n",
        "#print(len(all_ethalons))"
      ],
      "execution_count": 12,
      "outputs": [
        {
          "output_type": "stream",
          "text": [
            "['lowe', 'fashion', 'dress', 'married', 'like', 'vivienne westwood', 'somerset', 'rossdale', 'sienna miller', 'vogue', 'victorian', 'hollywood', 'prince charles', 'royal', 'marry', 'princess diana', 'wedding', 'dress', 'like', 'bruce oldfield', 'marilyn manson', 'westminster abbey', 'las vegas', 'silicon valley', 'eric schmidt', 'ceo', 'larry page', 'san francisco', 'microsoft', 'bill gates', 'emphasis', 'colin gillis', 'intelligence', 'robotic', 'ethan anderson', 'sergey brin', 'facebook twitter', 'groupon', 'wall street', 'gmail motion', 'communications', 'associated press investigation', 'tamoil', 'seco', 'libya', 'libyan', 'german', 'oilinvest', 'curacao', 'uneconomical', 'catrin bedi', 'north african', 'antje baertschi', 'michael alkalay', 'neutral', 'experiments', 'radioactivity', 'radioactivity', 'observed', 'symmetry', 'ernest rutherford', 'in orbit', 'completely swarming', 'monte carlo', 'negatively charged', 'experimental measurement']\n"
          ],
          "name": "stdout"
        }
      ]
    },
    {
      "cell_type": "markdown",
      "metadata": {
        "id": "hQkgjWwi-HmX"
      },
      "source": [
        "#Задание 3"
      ]
    },
    {
      "cell_type": "code",
      "metadata": {
        "id": "7l87ImtS9mPU"
      },
      "source": [
        "#total_string = '   '.join(lis)\n",
        "#total_string\n",
        "#lis[0]"
      ],
      "execution_count": 13,
      "outputs": []
    },
    {
      "cell_type": "markdown",
      "metadata": {
        "id": "c6BX1iAKNjGz"
      },
      "source": [
        "### Состав списка \"lis\" (названия статей):\n",
        "\n",
        "1) \"Gadhafi's gas stations pose dilemma for Europe\";\n",
        "\n",
        "2) \"Unveiled: Thirty years of big, fat celebrity weddings\";\n",
        "\n",
        "3) \"The Saturday interview: Pearl and Daisy Lowe\";\n",
        "\n",
        "4) \"My favourite particle: the neutrino\";\n",
        "\n",
        "5) \"Google founder hopes to prove he's ready to lead\";"
      ]
    },
    {
      "cell_type": "code",
      "metadata": {
        "id": "gT0joMfOzlHY"
      },
      "source": [
        "from nltk.corpus import wordnet\n",
        "def get_wordnet_pos(word):\n",
        "    \"\"\"Map POS tag to first character lemmatize() accepts\"\"\"\n",
        "    tag = nltk.pos_tag([word])[0][1][0].upper()\n",
        "    tag_dict = {\"J\": wordnet.ADJ,\n",
        "                \"N\": wordnet.NOUN,\n",
        "                \"V\": wordnet.VERB,\n",
        "                \"R\": wordnet.ADV}\n",
        "    return tag_dict.get(tag, wordnet.NOUN)"
      ],
      "execution_count": 14,
      "outputs": []
    },
    {
      "cell_type": "markdown",
      "metadata": {
        "id": "NIryEphvNbdy"
      },
      "source": [
        "##Способ 1: summa"
      ]
    },
    {
      "cell_type": "code",
      "metadata": {
        "id": "QS1DRIv34KCm",
        "outputId": "53372465-1647-4aab-e053-c182f75cf1e4",
        "colab": {
          "base_uri": "https://localhost:8080/"
        }
      },
      "source": [
        "import nltk\n",
        "nltk.download('stopwords')"
      ],
      "execution_count": 15,
      "outputs": [
        {
          "output_type": "stream",
          "text": [
            "[nltk_data] Downloading package stopwords to /root/nltk_data...\n",
            "[nltk_data]   Package stopwords is already up-to-date!\n"
          ],
          "name": "stdout"
        },
        {
          "output_type": "execute_result",
          "data": {
            "text/plain": [
              "True"
            ]
          },
          "metadata": {
            "tags": []
          },
          "execution_count": 15
        }
      ]
    },
    {
      "cell_type": "code",
      "metadata": {
        "id": "N-hxWkK8PbIv",
        "outputId": "136c15e7-f9a4-4974-ff06-e23146d745b6",
        "colab": {
          "base_uri": "https://localhost:8080/"
        }
      },
      "source": [
        "nltk.download('averaged_perceptron_tagger')"
      ],
      "execution_count": 16,
      "outputs": [
        {
          "output_type": "stream",
          "text": [
            "[nltk_data] Downloading package averaged_perceptron_tagger to\n",
            "[nltk_data]     /root/nltk_data...\n",
            "[nltk_data]   Package averaged_perceptron_tagger is already up-to-\n",
            "[nltk_data]       date!\n"
          ],
          "name": "stdout"
        },
        {
          "output_type": "execute_result",
          "data": {
            "text/plain": [
              "True"
            ]
          },
          "metadata": {
            "tags": []
          },
          "execution_count": 16
        }
      ]
    },
    {
      "cell_type": "code",
      "metadata": {
        "id": "kNlZVWDcvI48"
      },
      "source": [
        "from nltk.corpus import stopwords\n",
        "stop = stopwords.words('english')"
      ],
      "execution_count": 17,
      "outputs": []
    },
    {
      "cell_type": "code",
      "metadata": {
        "id": "Pe0adtP64fXT",
        "outputId": "89705100-a425-447b-c3c3-f5ba401aa935",
        "colab": {
          "base_uri": "https://localhost:8080/"
        }
      },
      "source": [
        "#lis\n",
        "!pip install summa\n",
        "from summa import keywords\n",
        "\n",
        "#kw(v, pos_filter=[], scores=True)"
      ],
      "execution_count": 18,
      "outputs": [
        {
          "output_type": "stream",
          "text": [
            "Requirement already satisfied: summa in /usr/local/lib/python3.6/dist-packages (1.2.0)\n",
            "Requirement already satisfied: scipy>=0.19 in /usr/local/lib/python3.6/dist-packages (from summa) (1.4.1)\n",
            "Requirement already satisfied: numpy>=1.13.3 in /usr/local/lib/python3.6/dist-packages (from scipy>=0.19->summa) (1.18.5)\n"
          ],
          "name": "stdout"
        }
      ]
    },
    {
      "cell_type": "code",
      "metadata": {
        "id": "MTikFxFjZoKu"
      },
      "source": [
        "stop = stopwords.words('english')"
      ],
      "execution_count": 19,
      "outputs": []
    },
    {
      "cell_type": "code",
      "metadata": {
        "id": "n7lEyndK4Pth"
      },
      "source": [
        "summa_list = {}\n",
        "\n",
        "from nltk.stem import WordNetLemmatizer \n",
        "  \n",
        "lemmatizer = WordNetLemmatizer() \n",
        "\n",
        "for k in big_dict.keys():\n",
        "  k = k.split()\n",
        "  k = ' '.join([lemmatizer.lemmatize(w, get_wordnet_pos(w)) for w in k])\n",
        "  word_list = keywords.keywords(k, additional_stopwords=stop, scores=True)\n",
        "  summa_list[k] = word_list #[lemmatizer.lemmatize(w) for w in word_list]\n",
        "  #for w in word_list: \n",
        "\n",
        "\n",
        "#for v in summa_list.values():\n",
        "#  print(v)"
      ],
      "execution_count": 20,
      "outputs": []
    },
    {
      "cell_type": "code",
      "metadata": {
        "id": "179juVh3F4hD",
        "outputId": "39bfb666-aee9-4a53-9de7-b662ec4adcf1",
        "colab": {
          "base_uri": "https://localhost:8080/"
        }
      },
      "source": [
        "sum_list = []\n",
        "\n",
        "for v in summa_list.values():\n",
        "  for vv in v:\n",
        "    sum_list.append(vv[0])\n",
        "\n",
        "print(sum_list)"
      ],
      "execution_count": 21,
      "outputs": [
        {
          "output_type": "stream",
          "text": [
            "['tamoil', 'libyans', 'sanctions', 'national subsidiary say', 'libyan oil refinery', 'company', 'companies', 'nations sanction', 'libya', 'swiss', 'european', 'europeans', 'investment', 'invest', 'government', 'dutch', 'money', 'international', 'power', 'fully', 'financial', 'economics', 'economic', 'operating', 'operation', 'operates', 'operate', 'operations', 'assurance', 'assurances', 'station', 'stations', 'refineries', 'cash', 'ministry', 'fund', 'funds', 'nation', 'netherlands', 'firm', 'told', 'reach', 'asset', 'assets', 'expert', 'spokeswoman', 'person', 'gadhafi', 'recent', 'recently', 'liberia', 'eu', 'institution', 'institute', 'football', 'germany', 'chain', 'tip', 'state', 'western', 'north', 'officials', 'official', 'europe', 'geneva', 'country', 'list', 'lists', 'self', 'nuclear weapon', 'simply', 'make', 'billion', 'million', 'barrels', 'barrel', 'write', 'monitor', 'monitoring', 'weddings', 'wed', 'celebrity wedding', 'couple', 'dress', 'dresses', 'dressed', 'couples celebrate', 'celebrations', 'kate', 'bride', 'brides', 'people', 'flowers', 'flower', 'new', 'married', 'marry', 'white', 'noel', 'party', 'partying', 'designer', 'design', 'designers', 'diana', 'prince', 'business', 'busy', 'nineties', 'fairy', 'suit', 'suite', 'year', 'years', 'spend', 'spending', 'u', 'cake', 'cakes', 'theme', 'bruce', 'princess', 'huge', 'rob', 'day', 'days', 'like', 'ceremony', 'florist', 'homes', 'home', 'civil', 'law', 'big', 'want', 'worth', 'said', 'alice', 'joyous', 'bessette', 'good', 'little', 'lehman', 'rubbish', 'von', 'peggy', 'silk', 'terry', 'vast', 'elton', 'registry', 'university', 'nicky', 'bridal', 'god', 'generation', 'table', 'tables', 'fashion', 'magazine', 'magazines', 'long', 'expensive', 'expense', 'house', 'incredibly bad', 'absolute bloody', 'absolutely', 'incredible', 'konig', 'tom', 'vodka', 'semi', 'vicky', 'box', 'passing', 'haslam', 'groom', 'left false', 'reception', 'partnerships pass', 'dinner', 'montefiore', 'partnership', 'parq', 'world', 'event', 'simon', 'sebag', 'hat', 'tale', 'daisy', 'pearl', 'dress', 'dresses', 'lowe', 'say', 'saying', 'london', 'look', 'life', 'black', 'fashion writes', 'night', 'unique like great', 'smith', 'make', 'maternal', 'endless', 'lace trim', 'love', 'lovely', 'people', 'collections', 'rock', 'star', 'daughter', 'friend', 'friends', 'mother', 'designed', 'big house', 'years', 'year', 'mum', 'unhappy', 'hill', 'orange', 'watch', 'pr', 'spiteri', 'castle', 'minestrone', 'doctor', 'helps', 'help', 'blood', 'world', 'danny', 'u', 'moss collection', 'goffey', 'start design', 'members club', 'married', 'kept', 'write', 'kate', 'jude', 'best', 'order', 'britpop', 'willoughby', 'self', 'natalie', 'lot', 'betty', 'story', 'frankie', 'miller', 'harriet', 'holly', 'particle', 'neutrino', 'neutrinos', 'like', 'particles charge', 'energy', 'predict', 'prediction', 'predicts', 'experimentally', 'experimental science', 'write', 'thing', 'theory', 'days', 'day', 'radioactivity', 'radioactive', 'make', 'emit radiation', 'pauli', 'emitted', 'world', 'u', 'useful', 'use', 'nuclear', 'laugh', 'proof', 'okay', 'base', 'rebelled', 'completely', 'end', 'comfortable feel', 'experiments', 'experiment', 'mass', 'masses', 'ones', 'famously say', 'balls', 'page', 'google founder', 'say', 'school', 'schools', 'ceo', 'ceos', 'company', 'rising', 'new', 'investors', 'investor', 'larry', 'job', 'jobs', 'schmidt', 'percent', 'brin', 'yahoo', 'nasdaq', 'technology', 'make', 'financial', 'project', 'great', 'business', 'businesses', 'executive', 'market', 'markets', 'announcement', 'announce', 'like', 'know', 'rebellious', 'microsoft', 'wacky', 'structure', 'ipod', 'wall', 'idealism', 'impulse', 'view', 'projects leave', 'internet', 'wireless', 'father', 'late', 'decision', 'degree', 'product', 'management', 'manager', 'manage', 'merrill', 'stock', 'said', 'replace', 'run', 'fell', 'investment', 'investments', 'nikola', 'little', 'consider', 'startup', 'quarterly', 'delight']\n"
          ],
          "name": "stdout"
        }
      ]
    },
    {
      "cell_type": "markdown",
      "metadata": {
        "id": "O1bt39FIc40H"
      },
      "source": [
        "##Способ 2: RAKE"
      ]
    },
    {
      "cell_type": "code",
      "metadata": {
        "id": "XNt5201m4tY-",
        "outputId": "770b9100-cb32-4d23-def8-a9ad242eeaa7",
        "colab": {
          "base_uri": "https://localhost:8080/"
        }
      },
      "source": [
        "nltk.download('wordnet')\n",
        "from nltk.stem import WordNetLemmatizer \n",
        "\n",
        "#lemmatizer = WordNetLemmatizer()\n",
        "\n",
        "#print(lemmatizer.lemmatize(\"\"))\n",
        "\n",
        "\n",
        "\n",
        "#for v in big_dict.values():\n",
        "#  print(v)\n",
        "#for s in summa_list.values():\n",
        "#  for ss in s:\n",
        "#    print(ss[0])"
      ],
      "execution_count": 22,
      "outputs": [
        {
          "output_type": "stream",
          "text": [
            "[nltk_data] Downloading package wordnet to /root/nltk_data...\n",
            "[nltk_data]   Package wordnet is already up-to-date!\n"
          ],
          "name": "stdout"
        }
      ]
    },
    {
      "cell_type": "code",
      "metadata": {
        "id": "rQz5rAJeZoZj",
        "outputId": "51d7c9e0-5f9b-4ecf-f14a-2e0a372daac4",
        "colab": {
          "base_uri": "https://localhost:8080/"
        }
      },
      "source": [
        "!pip install python-rake\n",
        "import RAKE"
      ],
      "execution_count": 23,
      "outputs": [
        {
          "output_type": "stream",
          "text": [
            "Requirement already satisfied: python-rake in /usr/local/lib/python3.6/dist-packages (1.4.5)\n"
          ],
          "name": "stdout"
        }
      ]
    },
    {
      "cell_type": "code",
      "metadata": {
        "id": "KQkHiCxlcp8Y",
        "outputId": "995238ff-44b2-45d4-d2a0-e8abad738c36",
        "colab": {
          "base_uri": "https://localhost:8080/"
        }
      },
      "source": [
        "rake = RAKE.Rake(stop)\n",
        "\n",
        "rake_list = {}\n",
        "\n",
        "for k in big_dict.keys():\n",
        "  k = k.split()\n",
        "  k = ' '.join([lemmatizer.lemmatize(w, get_wordnet_pos(w)) for w in k])\n",
        "  rake_list[k] = rake.run(k, maxWords=3, minFrequency=2)\n",
        "\n",
        "for v in rake_list.values():\n",
        "  print(v)\n",
        "\n",
        "#wiki_kw_list = rake.run(total_string, maxWords=3, minFrequency=2)"
      ],
      "execution_count": 24,
      "outputs": [
        {
          "output_type": "stream",
          "text": [
            "[('libyan investment authority', 7.888888888888889), ('international sanction', 4.388888888888889), ('crude oil', 4.142857142857142), ('told ap', 4.0), ('recent year', 4.0), ('would', 2.0), ('day', 2.0), ('say', 1.9166666666666667), ('money', 1.8), ('make', 1.8), ('government', 1.7777777777777777), ('tamoil', 1.7619047619047619), ('europe', 1.75), ('company', 1.7333333333333334), ('profit', 1.6666666666666667), ('person', 1.5), ('assets', 1.4), ('libya', 1.3636363636363635), ('italy', 1.3333333333333333), ('shut', 1.3333333333333333), ('gadhafi', 1.2857142857142858), ('regime', 1.25), ('freeze', 1.25), ('sanctions', 1.25), ('control', 1.25), ('u', 1.2222222222222223), ('still', 1.0), ('business', 1.0), ('allow', 1.0), ('said', 1.0), ('naive', 1.0), ('attempt', 1.0), ('part', 1.0), ('cite', 1.0), ('germany', 1.0), ('netherlands', 1.0), ('accord', 1.0), ('oilinvest', 1.0), ('switzerland', 1.0), ('seco', 1.0), ('pledge', 1.0), ('spokesman', 1.0), ('condition', 1.0), ('anonymity', 1.0), ('matter', 1.0), ('meanwhile', 1.0), ('talk', 1.0), ('n', 1.0), ('enemy', 1.0)]\n",
            "[('rob van helden', 9.0), ('alice du parq', 9.0), ('fairy tale', 4.733333333333333), ('new york', 4.333333333333334), ('royal wedding', 4.203703703703704), ('nicky haslam', 4.0), ('bruce oldfield', 4.0), ('fiona leahy', 4.0), ('vicky ward', 4.0), ('couple could', 3.888888888888889), ('wedding like', 3.8703703703703702), ('get married', 3.857142857142857), ('wedding dress', 3.7527233115468412), ('princess diana', 3.75), ('kate halfpenny', 3.7142857142857144), ('gay wedding', 3.6703703703703705), ('bridal designer', 3.6), ('wedding gown', 3.537037037037037), ('wedding day', 3.537037037037037), ('noel said', 3.428571428571429), ('bride want', 3.375757575757576), ('reception', 2.0), ('get', 2.0), ('want', 1.9090909090909092), ('couple', 1.8888888888888888), ('dress', 1.8823529411764706), ('wedding', 1.8703703703703705), ('see', 1.75), ('back', 1.75), ('people', 1.75), ('kate', 1.7142857142857142), ('take', 1.6666666666666667), ('day', 1.6666666666666667), ('guest', 1.6666666666666667), ('come', 1.6666666666666667), ('designer', 1.6), ('u', 1.6), ('year', 1.6), ('become', 1.5714285714285714), ('diana', 1.5), ('give', 1.5), ('flowers', 1.5), ('flower', 1.5), ('far', 1.5), ('much', 1.5), ('everyone', 1.5), ('one', 1.5), ('bride', 1.4666666666666666), ('noel', 1.4285714285714286), ('make', 1.4166666666666667), ('nineties', 1.4), ('britain', 1.3333333333333333), ('love', 1.3333333333333333), ('palace', 1.3333333333333333), ('certainly', 1.3333333333333333), ('dance', 1.3333333333333333), ('know', 1.3333333333333333), ('ceremony', 1.3333333333333333), ('flew', 1.3333333333333333), ('us', 1.3333333333333333), ('fashion', 1.3333333333333333), ('magazine', 1.3333333333333333), ('way', 1.3333333333333333), ('wear', 1.3333333333333333), ('never', 1.3333333333333333), ('weddings', 1.3333333333333333), ('mother', 1.3333333333333333), ('think', 1.3333333333333333), ('god', 1.3333333333333333), ('lehman', 1.3333333333333333), ('thing', 1.3333333333333333), ('time', 1.2857142857142858), ('go', 1.2777777777777777), ('dinner', 1.25), ('style', 1.0), ('wore', 1.0), ('photographer', 1.0), ('case', 1.0), ('moment', 1.0), ('writer', 1.0), ('honeymoon', 1.0), ('marriage', 1.0), ('change', 1.0), ('start', 1.0), ('flown', 1.0), ('influence', 1.0), ('veil', 1.0), ('morning', 1.0), ('thought', 1.0), ('mum', 1.0), ('bottle', 1.0), ('hit', 1.0), ('wife', 1.0), ('career', 1.0), ('rock', 1.0), ('n', 1.0), ('reflect', 1.0), ('uk', 1.0), ('lot', 1.0), ('everything', 1.0), ('france', 1.0), ('mean', 1.0), ('church', 1.0), ('walk', 1.0), ('aisle', 1.0), ('reason', 1.0), ('type', 1.0), ('need', 1.0), ('internet', 1.0), ('choice', 1.0), ('guests', 1.0), ('predictable', 1.0), ('busy', 1.0), ('1995', 0), ('1997', 0), ('20', 0)]\n",
            "[('bar last night', 8.285714285714285), ('daughter daisy', 3.888888888888889), ('matt smith', 3.866666666666667), ('best friend', 3.75), ('leave london', 3.666666666666667), ('ask daisy', 3.138888888888889), ('dress', 2.2222222222222223), ('make', 2.2), ('well', 2.0), ('say', 2.0), ('life', 2.0), ('london', 2.0), ('like', 1.8571428571428572), ('fashion', 1.8333333333333333), ('lowe', 1.8333333333333333), ('take', 1.75), ('manage', 1.6666666666666667), ('found', 1.6666666666666667), ('one', 1.6), ('house', 1.6), ('year', 1.6), ('pearl', 1.5483870967741935), ('easy', 1.5), ('lot', 1.5), ('look', 1.5), ('ever', 1.5), ('drugs', 1.4), ('daisy', 1.3888888888888888), ('mum', 1.375), ('family', 1.3333333333333333), ('married', 1.3333333333333333), ('cool', 1.3333333333333333), ('fact', 1.3333333333333333), ('talk', 1.3333333333333333), ('give', 1.3333333333333333), ('much', 1.3333333333333333), ('think', 1.25), ('get', 1.25), ('kid', 1.25), ('want', 1.1666666666666667), ('go', 1.1111111111111112), ('addiction', 1.0), ('depression', 1.0), ('kind', 1.0), ('peacocks', 1.0), ('set', 1.0), ('week', 1.0), ('part', 1.0), ('sign', 1.0), ('open', 1.0), ('line', 1.0), ('room', 1.0), ('yet', 1.0), ('reality', 1.0), ('wonder', 1.0), ('drift', 1.0), ('bed', 1.0), ('oblivious', 1.0), ('wrong', 1.0), ('danny', 1.0), ('alfie', 1.0), ('frankie', 1.0), ('know', 1.0), ('way', 1.0), ('late', 1.0), ('might', 1.0), ('window', 1.0), ('could', 1.0), ('15', 0), ('5', 0)]\n",
            "[('little bit', 4.333333333333334), ('favourite particle', 4.071428571428571), ('standard model', 4.0), ('wolfgang pauli', 3.6), ('electron could', 2.9722222222222223), ('particle', 2.0714285714285716), ('must', 2.0), ('something', 1.75), ('matter', 1.6666666666666667), ('emit', 1.6666666666666667), ('neutral', 1.6666666666666667), ('radiation', 1.6), ('pauli', 1.6), ('write', 1.5), ('get', 1.5), ('theory', 1.5), ('charge', 1.5), ('kind', 1.5), ('make', 1.5), ('thing', 1.4285714285714286), ('love', 1.3333333333333333), ('fit', 1.3333333333333333), ('come', 1.3333333333333333), ('back', 1.3333333333333333), ('radioactivity', 1.3333333333333333), ('laugh', 1.3333333333333333), ('electrons', 1.3333333333333333), ('cannot', 1.3333333333333333), ('prediction', 1.3333333333333333), ('know', 1.2857142857142858), ('neutrino', 1.2727272727272727), ('zero', 1.25), ('one', 1.25), ('electron', 1.2222222222222223), ('energy', 1.2222222222222223), ('nucleus', 1.2), ('universe', 1.0), ('post', 1.0), ('others', 1.0), ('suppose', 1.0), ('warm', 1.0), ('postulate', 1.0), ('lot', 1.0), ('atom', 1.0), ('understand', 1.0), ('orbit', 1.0), ('describe', 1.0), ('anyway', 1.0), ('knew', 1.0), ('radio', 1.0), ('show', 1.0), ('thought', 1.0), ('okay', 1.0), ('mass', 1.0), ('able', 1.0), ('conservation', 1.0), ('knowledge', 1.0), ('detected', 1.0), ('way', 1.0), ('happy', 1.0), ('ignore', 1.0), ('neutrinos', 1.0)]\n",
            "[('silicon valley', 4.0), ('schmidt', 2.1), ('know', 2.0), ('nasdaq', 2.0), ('company', 1.8181818181818181), ('google', 1.8095238095238095), ('though', 1.75), ('even', 1.7142857142857142), ('page', 1.6153846153846154), ('make', 1.5), ('ceo', 1.3333333333333333), ('like', 1.3333333333333333), ('change', 1.3333333333333333), ('learn', 1.25), ('larry', 1.25), ('yet', 1.0), ('personality', 1.0), ('january', 1.0), ('return', 1.0), ('dominance', 1.0), ('world', 1.0), ('want', 1.0), ('happen', 1.0), ('chance', 1.0), ('time', 1.0), ('decade', 1.0)]\n"
          ],
          "name": "stdout"
        }
      ]
    },
    {
      "cell_type": "code",
      "metadata": {
        "id": "lxiAgY4tGZls",
        "outputId": "1a4e4269-ce14-4b3d-de14-214ef2edcb55",
        "colab": {
          "base_uri": "https://localhost:8080/"
        }
      },
      "source": [
        "r_list = []\n",
        "\n",
        "for r in rake_list.values():\n",
        "  for rr in r:\n",
        "    r_list.append(rr[0])\n",
        "\n",
        "print(r_list)"
      ],
      "execution_count": 25,
      "outputs": [
        {
          "output_type": "stream",
          "text": [
            "['libyan investment authority', 'international sanction', 'crude oil', 'told ap', 'recent year', 'would', 'day', 'say', 'money', 'make', 'government', 'tamoil', 'europe', 'company', 'profit', 'person', 'assets', 'libya', 'italy', 'shut', 'gadhafi', 'regime', 'freeze', 'sanctions', 'control', 'u', 'still', 'business', 'allow', 'said', 'naive', 'attempt', 'part', 'cite', 'germany', 'netherlands', 'accord', 'oilinvest', 'switzerland', 'seco', 'pledge', 'spokesman', 'condition', 'anonymity', 'matter', 'meanwhile', 'talk', 'n', 'enemy', 'rob van helden', 'alice du parq', 'fairy tale', 'new york', 'royal wedding', 'nicky haslam', 'bruce oldfield', 'fiona leahy', 'vicky ward', 'couple could', 'wedding like', 'get married', 'wedding dress', 'princess diana', 'kate halfpenny', 'gay wedding', 'bridal designer', 'wedding gown', 'wedding day', 'noel said', 'bride want', 'reception', 'get', 'want', 'couple', 'dress', 'wedding', 'see', 'back', 'people', 'kate', 'take', 'day', 'guest', 'come', 'designer', 'u', 'year', 'become', 'diana', 'give', 'flowers', 'flower', 'far', 'much', 'everyone', 'one', 'bride', 'noel', 'make', 'nineties', 'britain', 'love', 'palace', 'certainly', 'dance', 'know', 'ceremony', 'flew', 'us', 'fashion', 'magazine', 'way', 'wear', 'never', 'weddings', 'mother', 'think', 'god', 'lehman', 'thing', 'time', 'go', 'dinner', 'style', 'wore', 'photographer', 'case', 'moment', 'writer', 'honeymoon', 'marriage', 'change', 'start', 'flown', 'influence', 'veil', 'morning', 'thought', 'mum', 'bottle', 'hit', 'wife', 'career', 'rock', 'n', 'reflect', 'uk', 'lot', 'everything', 'france', 'mean', 'church', 'walk', 'aisle', 'reason', 'type', 'need', 'internet', 'choice', 'guests', 'predictable', 'busy', '1995', '1997', '20', 'bar last night', 'daughter daisy', 'matt smith', 'best friend', 'leave london', 'ask daisy', 'dress', 'make', 'well', 'say', 'life', 'london', 'like', 'fashion', 'lowe', 'take', 'manage', 'found', 'one', 'house', 'year', 'pearl', 'easy', 'lot', 'look', 'ever', 'drugs', 'daisy', 'mum', 'family', 'married', 'cool', 'fact', 'talk', 'give', 'much', 'think', 'get', 'kid', 'want', 'go', 'addiction', 'depression', 'kind', 'peacocks', 'set', 'week', 'part', 'sign', 'open', 'line', 'room', 'yet', 'reality', 'wonder', 'drift', 'bed', 'oblivious', 'wrong', 'danny', 'alfie', 'frankie', 'know', 'way', 'late', 'might', 'window', 'could', '15', '5', 'little bit', 'favourite particle', 'standard model', 'wolfgang pauli', 'electron could', 'particle', 'must', 'something', 'matter', 'emit', 'neutral', 'radiation', 'pauli', 'write', 'get', 'theory', 'charge', 'kind', 'make', 'thing', 'love', 'fit', 'come', 'back', 'radioactivity', 'laugh', 'electrons', 'cannot', 'prediction', 'know', 'neutrino', 'zero', 'one', 'electron', 'energy', 'nucleus', 'universe', 'post', 'others', 'suppose', 'warm', 'postulate', 'lot', 'atom', 'understand', 'orbit', 'describe', 'anyway', 'knew', 'radio', 'show', 'thought', 'okay', 'mass', 'able', 'conservation', 'knowledge', 'detected', 'way', 'happy', 'ignore', 'neutrinos', 'silicon valley', 'schmidt', 'know', 'nasdaq', 'company', 'google', 'though', 'even', 'page', 'make', 'ceo', 'like', 'change', 'learn', 'larry', 'yet', 'personality', 'january', 'return', 'dominance', 'world', 'want', 'happen', 'chance', 'time', 'decade']\n"
          ],
          "name": "stdout"
        }
      ]
    },
    {
      "cell_type": "markdown",
      "metadata": {
        "id": "B_uzAvH53DHn"
      },
      "source": [
        "Эталон: ключевые слова.\n",
        "\n",
        "\n",
        "\n"
      ]
    },
    {
      "cell_type": "markdown",
      "metadata": {
        "id": "2oiua6Kr5Sdb"
      },
      "source": [
        "##Способ 3: TextRank"
      ]
    },
    {
      "cell_type": "code",
      "metadata": {
        "id": "1LpMG2WDcqDf"
      },
      "source": [
        "import spacy"
      ],
      "execution_count": 26,
      "outputs": []
    },
    {
      "cell_type": "code",
      "metadata": {
        "id": "SZPFUYKGpEj4"
      },
      "source": [
        "#nlp = spacy.load('en_core_web_sm')"
      ],
      "execution_count": 27,
      "outputs": []
    },
    {
      "cell_type": "code",
      "metadata": {
        "id": "oJmWuBXjpEvm"
      },
      "source": [
        "from collections import OrderedDict\n",
        "import numpy as np\n",
        "import spacy\n",
        "from spacy.lang.en.stop_words import STOP_WORDS\n",
        "\n",
        "nlp = spacy.load('en_core_web_sm')\n",
        "\n",
        "class TextRank4Keyword():\n",
        "    \"\"\"Extract keywords from text\"\"\"\n",
        "    \n",
        "    def __init__(self):\n",
        "        self.d = 0.85 # damping coefficient, usually is .85\n",
        "        self.min_diff = 1e-5 # convergence threshold\n",
        "        self.steps = 10 # iteration steps\n",
        "        self.node_weight = None # save keywords and its weight\n",
        "\n",
        "    \n",
        "    def set_stopwords(self, stopwords):  \n",
        "        \"\"\"Set stop words\"\"\"\n",
        "        for word in STOP_WORDS.union(set(stopwords)):\n",
        "            lexeme = nlp.vocab[word]\n",
        "            lexeme.is_stop = True\n",
        "    \n",
        "    def sentence_segment(self, doc, candidate_pos, lower):\n",
        "        \"\"\"Store those words only in cadidate_pos\"\"\"\n",
        "        sentences = []\n",
        "        for sent in doc.sents:\n",
        "            selected_words = []\n",
        "            for token in sent:\n",
        "                # Store words only with cadidate POS tag\n",
        "                if token.pos_ in candidate_pos and token.is_stop is False:\n",
        "                    if lower is True:\n",
        "                        selected_words.append(token.text.lower())\n",
        "                    else:\n",
        "                        selected_words.append(token.text)\n",
        "            sentences.append(selected_words)\n",
        "        return sentences\n",
        "        \n",
        "    def get_vocab(self, sentences):\n",
        "        \"\"\"Get all tokens\"\"\"\n",
        "        vocab = OrderedDict()\n",
        "        i = 0\n",
        "        for sentence in sentences:\n",
        "            for word in sentence:\n",
        "                if word not in vocab:\n",
        "                    vocab[word] = i\n",
        "                    i += 1\n",
        "        return vocab\n",
        "    \n",
        "    def get_token_pairs(self, window_size, sentences):\n",
        "        \"\"\"Build token_pairs from windows in sentences\"\"\"\n",
        "        token_pairs = list()\n",
        "        for sentence in sentences:\n",
        "            for i, word in enumerate(sentence):\n",
        "                for j in range(i+1, i+window_size):\n",
        "                    if j >= len(sentence):\n",
        "                        break\n",
        "                    pair = (word, sentence[j])\n",
        "                    if pair not in token_pairs:\n",
        "                        token_pairs.append(pair)\n",
        "        return token_pairs\n",
        "        \n",
        "    def symmetrize(self, a):\n",
        "        return a + a.T - np.diag(a.diagonal())\n",
        "    \n",
        "    def get_matrix(self, vocab, token_pairs):\n",
        "        \"\"\"Get normalized matrix\"\"\"\n",
        "        # Build matrix\n",
        "        vocab_size = len(vocab)\n",
        "        g = np.zeros((vocab_size, vocab_size), dtype='float')\n",
        "        for word1, word2 in token_pairs:\n",
        "            i, j = vocab[word1], vocab[word2]\n",
        "            g[i][j] = 1\n",
        "            \n",
        "        # Get Symmeric matrix\n",
        "        g = self.symmetrize(g)\n",
        "        \n",
        "        # Normalize matrix by column\n",
        "        norm = np.sum(g, axis=0)\n",
        "        g_norm = np.divide(g, norm, where=norm!=0)\n",
        "        \n",
        "        return g_norm\n",
        "\n",
        "    \n",
        "    def get_keywords(self, number=10):\n",
        "        \"\"\"Print top number keywords\"\"\"\n",
        "        node_weight = OrderedDict(sorted(\n",
        "            self.node_weight.items(), key=lambda t: t[1], reverse=True))\n",
        "        for i, (key, value) in enumerate(node_weight.items()):\n",
        "            print(key + ' - ' + str(value))\n",
        "            if i > number:\n",
        "                break\n",
        "        \n",
        "        \n",
        "    def analyze(self, text, \n",
        "                candidate_pos=['NOUN', 'PROPN'], \n",
        "                window_size=4, lower=False, stopwords=list()):\n",
        "        \"\"\"Main function to analyze text\"\"\"\n",
        "        \n",
        "        # Set stop words\n",
        "        self.set_stopwords(stopwords)\n",
        "        \n",
        "        # Pare text by spaCy\n",
        "        doc = nlp(text)\n",
        "        \n",
        "        # Filter sentences\n",
        "        sentences = self.sentence_segment(doc, candidate_pos, lower)\n",
        "        \n",
        "        # Build vocabulary\n",
        "        vocab = self.get_vocab(sentences)\n",
        "        \n",
        "        # Get token_pairs from windows\n",
        "        token_pairs = self.get_token_pairs(window_size, sentences)\n",
        "        \n",
        "        # Get normalized matrix\n",
        "        g = self.get_matrix(vocab, token_pairs)\n",
        "        \n",
        "        # Initionlization for weight(pagerank value)\n",
        "        pr = np.array([1] * len(vocab))\n",
        "        \n",
        "        # Iteration\n",
        "        previous_pr = 0\n",
        "        for epoch in range(self.steps):\n",
        "            pr = (1-self.d) + self.d * np.dot(g, pr)\n",
        "            if abs(previous_pr - sum(pr))  < self.min_diff:\n",
        "                break\n",
        "            else:\n",
        "                previous_pr = sum(pr)\n",
        "\n",
        "        # Get weight for each node\n",
        "        node_weight = dict()\n",
        "        for word, index in vocab.items():\n",
        "            node_weight[word] = pr[index]\n",
        "        \n",
        "        self.node_weight = node_weight"
      ],
      "execution_count": 28,
      "outputs": []
    },
    {
      "cell_type": "code",
      "metadata": {
        "id": "hbpLHM-5pE0j",
        "outputId": "23242d16-e665-4bc3-9d41-ede932ada0e3",
        "colab": {
          "base_uri": "https://localhost:8080/"
        }
      },
      "source": [
        "#text = lis[0]\n",
        "\n",
        "tr4w = TextRank4Keyword()\n",
        "\n",
        "textrank_list = {}\n",
        "\n",
        "for k in big_dict.keys():\n",
        "  print(k)\n",
        "  k = k.split()\n",
        "  k = ' '.join([lemmatizer.lemmatize(w, get_wordnet_pos(w)) for w in k])\n",
        "  print()\n",
        "  tr4w.analyze(k, candidate_pos = ['NOUN',\n",
        "                                   'PROPN',\n",
        "                                   'ADJ',\n",
        "                                   'VERB'], window_size=4, lower=False)\n",
        "  tr4w.get_keywords(30)\n",
        "  print()\n",
        "  print()"
      ],
      "execution_count": 29,
      "outputs": [
        {
          "output_type": "stream",
          "text": [
            "Gadhafi's gas stations pose dilemma for Europe Flames and smoke shoot up from the Libyan-owned oil refinery on the eastern tip of Lake Geneva, suggesting one of Moammar Gadhafi's outposts in Europe is still in business. As world powers tighten their military and financial grip around his regime, some governments are hesitating to freeze all of the assets controlled by the North African country's repressive ruler. An Associated Press investigation has found that several European countries have accepted assurances from Libya's Tamoil petroleum company that none of its profits reach Tripoli. In return, Tamoil has been allowed to continue operating unchecked, despite the fact its parent company is on a United Nations sanctions list. Officials at Tamoil's European headquarters didn't return requests for comment, but representatives at four of the group's national subsidiaries said they were abiding by the sanctions. \"\"No money from the gas stations flows, directly or indirectly, to persons or institutions subject to sanctions,\"\" Catrin Bedi, of Tamoil's German subsidiary, told AP. All money was reinvested to expand the German operation, she said. Yet experts say European governments are being naive, or simply self-serving, in an attempt to protect European jobs and oil supplies. \"\"It's a political decision. It would be naive to think that Tamoil is independent,\"\" said Zurich-based money-laundering expert Michael Alkalay. He said Western governments that readily did business with Libya in recent years now criticize Gadhafi's regime but are doing little to clamp down on its assets, the most visible of which is Tamoil whose logo fronts gas stations from the Baltic Sea to the Mediterranean. Gary Hufbauer, a former U.S. Treasury deputy assistant secretary in the Carter administration, said European governments _ which like the U.S. have frozen Libyan cash deposits in their banks _ are essentially taking Tamoil's word for it that the profits won't get back to Gadhafi. \"\"If the Europeans are serious about imposing the freeze, they shouldn't be allowing any money to be paid if it's going to any part of the Libyan regime,\"\" said Hufbauer, now a senior fellow with the Peterson Institute for International Economics in Washington. World powers intentionally stopped short of naming Tamoil in their sanctions lists, he said, citing its importance to Europe. The company's Swiss branch is registered in the southwestern town of Collombey-Muraz, where it operates a 72,000 barrels-per-day refinery that supplies more than 300 gas stations throughout Switzerland. Sister companies in Spain, Germany, the Netherlands and Italy operate 2,500 more gas stations, and there are two other refineries in Hamburg, Germany, and Cremona, Italy. The refineries' combined capacity is 255,000 barrels of crude oil a day, or about 2 percent of the 14 million barrels that power Europe daily. Libya was producing 1.58 million barrels a day of crude oil in January, according to International Energy Agency figures. All are part of a Dutch-based holding company, Oilinvest (Netherlands) B.V., whose sales ran to some $10 billion in 2009. Oilinvest, in turn, is owned by the Libyan Investment Authority, the country's sovereign wealth fund estimated to be worth $65 billion. Last month, the LIA was placed under international sanctions on the grounds that it is controlled by Gadhafi or persons close to him. Tamoil's links to the regime, however, aren't enough for Switzerland to shut it down, according to the Swiss State Secretariat for Economic Affairs, or SECO. \"\"Tamoil has pledged in writing to SECO to fully respect the sanctions imposed by the Swiss Federal Council, in particular not to make any payments or transfer other assets, in whichever form, to natural or legal persons who are subject to sanctions,\"\" spokeswoman Antje Baertschi told AP. She acknowledged that Switzerland isn't checking whether Tamoil is living up to its pledge, nor could she say when Tamoil made its last payment to Libya. \"\"It's not possible to monitor all transactions,\"\" she said. A spokesman for Germany's Economy Ministry, who spoke on condition of anonymity, said Berlin was satisfied Tamoil would comply with international sanctions after receiving written assurances. Monitoring compliance was a matter for the prosecutors, he said. But in a sign that some Tamoil entities are prepared to go further to protect their operations, the company's German spokeswoman, Bedi, said an external auditor would be given access to its books. Meanwhile, Italy's Finance Ministry said in a statement last week that \"\"no freezing measure has been adopted toward Tamoil Italia S.p.a,\"\" which it said was \"\"collaborating with the authorities to ensure the adopted international sanctions are respected fully regarding the situation in Libya.\"\" Charles Huyskens, a spokesman for Tamoil's branch in the Netherlands, told AP the company had struck a deal with the Dutch government. \"\"The operation here is business as usual, but the guarantee is that they will not transfer money abroad or to any shareholder or whatever,\"\" he said. Finance Ministry spokesman Niels Redeker disputed this, saying the government was still in talks with Tamoil \"\"to prevent (cash) reserves from reaching entities on the banned list. But these are talks and have not led to any agreement.\"\" Dutch opposition lawmaker Harry van Bommel said Tamoil's many shell companies in tax havens _ from Monaco to Curacao in the Caribbean _ make it impossible to guard against Gadhafi's allies funneling money out of the company. \"\"All assets of Tamoil should be frozen, period,\"\" he said. \"\"We're talking about U.N. resolutions, we're talking about Gadhafi who is willing to kill his own people. Would he not ask a company under his control to transfer assets?\"\" U.S. sanctions apply to anything owned or controlled by the government of Libya, which would include Tamoil if it did business with or processed payments through the U.S., said a senior U.S. Treasury Department official, speaking on condition of anonymity because of the sensitivity of the matter. After Libya agreed to scrap its secret nuclear weapons program and compensate victims of terrorist attacks, the U.S. in 2006 rescinded its designation as a state sponsor of terrorism. And with the country emerging from international isolation, western firms rushed to sign oil exploration deals. Libya's more than 46 billion barrels of oil reserves are the largest in Africa and all but five percent of its exports come from oil. Flush with petrodollars, Libya invested heavily in foreign assets, from Spanish banks to Italian football clubs, and a growing network of petroleum companies in the long chain stretching from supplier to consumer. EU documents show that the 27-nation bloc has used financial sanctions against Iran, Iraq, Myanmar, North Korea, Yugoslavia, Zimbabwe as well as Libya. In recent years there have been increasing calls for \"\"targeted\"\" financial sanctions that aim to freeze a person or a company's profits, rather than shut it down and cause broader economic distress. Enrico Carisch, a U.S.-based Swiss field investigator who has worked for the U.N. enforcing sanctions against Somalia, Liberia, Congo and Sudan, said Tamoil's profits should be frozen rather than simply shut down. \"\"Every government has to conduct due diligence to make sure they are not inadvertently contributing to the problem,\"\" he said. \"\"The enemy is not Libyan workers, the enemy is not Libyan companies. The enemy is those who derive benefits from the Libyan oil and use them against the Libyan people.\"\" One argument for keeping Tamoil afloat is that any future government in Libya would be entitled to reclaim ownership over the company on behalf of ordinary Libyans. An attempt by Los Angeles-based private investment firm Colony Capital LLC in 2007 to buy a 65 percent stake in Tamoil and Oilinvest from the Libyan government valued the entire company at over $8 billion. The deal never came off. Sven Behrendt, a Geneva-based expert on sovereign wealth funds, said Tamoil may only be the most visible tip of the Libyan Investment Authority's assets. He recently ranked the LIA among the least transparent of some two dozen sovereign wealth funds, making it difficult for governments to fully know what it owns or controls. The most immediate threat to the company's operations may be its rivals. Royal Dutch Shell has halted a supply agreement with Tamoil in the Netherlands, citing the international sanctions. The parties are due in court next week. Meanwhile, a monthlong maintenance period at the Swiss refinery has been brought forward to April due to \"\"uneconomical margins,\"\" a spokesman there said. ___ \n",
            "\n",
            "Tamoil - 10.659632453849074\n",
            "company - 7.520114819080955\n",
            "sanction - 5.25387098221838\n",
            "government - 4.986379762854964\n",
            "oil - 4.202897397311889\n",
            "Libya - 3.903113118724145\n",
            "Libyan - 3.827611993622489\n",
            "said - 3.3719613710734957\n",
            "Gadhafi - 3.333852936051345\n",
            "Swiss - 3.250707454617434\n",
            "U.S. - 3.0089293447512944\n",
            "European - 2.8636510987536212\n",
            "international - 2.5858349485265495\n",
            "money - 2.5527595809363137\n",
            "refinery - 2.5112282267004935\n",
            "based - 2.4513826354125863\n",
            "Netherlands - 2.3708746962757616\n",
            "country - 2.357172744057162\n",
            "_ - 2.3366332318058456\n",
            "assets - 2.3293309073929356\n",
            "freeze - 2.326901318781089\n",
            "gas - 2.2468421542987036\n",
            "regime - 2.221231293048957\n",
            "control - 2.036978526456198\n",
            "financial - 1.960460992779903\n",
            "person - 1.9142371698963312\n",
            "station - 1.8798995428720802\n",
            "spokesman - 1.8559547360166486\n",
            "sovereign - 1.8330832753325241\n",
            "German - 1.829106423922891\n",
            "wealth - 1.8229575819229096\n",
            "business - 1.8202150037331282\n",
            "\n",
            "\n",
            "Unveiled: Thirty years of big, fat celebrity weddings In 1981, as Britain was in the midst of a biting recession, Lady Diana Spencer married Prince Charles, while the world watched. Elizabeth Emanuel, designer \"\"Until Diana's dress, wedding gowns had been uniformly the same: white, ankle-length, A-line, long-sleeved. We brought the wedding dress into high fashion. Diana was introduced to us by Vogue; she didn't yet have her own sense of style, but she loved the very theatrical, fairy-tale dresses we made. When she asked us to make her wedding dress, it was life-changing. She told us to be secretive, but there were no instructions from Buckingham Palace, no protocol. There was so much speculation in the press after she wore a gown of ours to an official dinner, the Palace was forced to make an announcement through Reuters. The whole world went mad. There were photographers at the studio constantly and we had to take on security. We left false trails for the tabloids in the rubbish bins and we locked the dress in a trunk every night. We even made a spare dress in case our real design was leaked. On the day itself we realised this wasn't just a wedding dress, it was a moment in history. We dressed her at Clarence House, with the bridesmaids and the Queen Mother. Diana was excited but very calm. There was a moment, waiting for the coach, when we all stood in total silence for what seemed like an age. Then she stepped into the carriage and the crowds went mad.\"\" Nicky Haslam, interior designer and writer \"\"Princess Diana's wedding was extraordinary because it was a royal wedding. One thinks of watching the coronation on newsreels, there's this incredible formality to it, which doesn't exist now. It was certainly very traditional. There was a ball afterwards, given by the Queen, but Prince Charles and Princess Diana weren't there. In those days, the bride and groom left after their reception and went on honeymoon. To give a dance the night of your wedding was seen as incredibly bad form. The last thing you wanted was the bride getting reeling drunk so she couldn't consummate her marriage.\"\" Bruce Oldfield, designer \"\"The Eighties was a showy decade. I made a dress for an Australian bride in 1984. We had three appointments and each time she said the sketches weren't quite right, until she finally said, \"\"You've missed the point. We want our guests to know we've spent an absolute bloody fortune and that this is Australia's royal wedding!\"\". Even three or four years after Diana's fairy-princess dress, wedding gowns were changing to suit the times. This Australian bride wanted the full skirt, but also to be able to detach parts of the dress to reveal her very good figure; there were moves afoot to sex up wedding dresses.\"\" Rob Van Helden, florist \"\"I started my business in 1986. Back then, carnations and chrysanthemums were standard wedding flowers, now they're so unfashionable, as is the way flowers were arranged then – all mixed together in one big vase. People certainly didn't spend money on flowers. Weddings followed a simple routine: ceremony, reception, meal, dancing. The wedding party sat on a long table and the dance floor was in front of them. Now the DJ is flown in from Ibiza and there's a secret nightclub revealed behind a curtain at the back of the marquee.\"\" In the nineties, influenced by a growing culture of conspicuous consumption, weddings became more extravagant and individualised, assisted by changes in the law, in 1995, that meant civil ceremonies could now take place in castles, hotels or stately homes. Meg Matthews \"\"Noel [Gallagher] and I were going to get married on Valentine's Day, 1997, on a barge in Little Venice, but it got leaked to The Sun so we had to cancel it. Noel said, \"\"Leave it to me\"\". We went and had our suits tailored at Daniel James in Savile Row (I had an amazing white suit modelled on the one Bianca Jagger wore to marry Mick, and a hat with a veil). Noel said, \"\"The car is picking us up in the morning. We're going to get married. You can't tell anyone\"\". I remember passing Kate [Moss] on the stairs in the morning – she was living with us at the time – and I was carrying a huge hat box in my arms. I thought it was so obvious, but she didn't clock it. I knew we were going to Las Vegas, but it was still a secret operation. Noel and I flew there via Phoenix. My mum and dad flew via Chicago. Noel's mum, Peggy, came via somewhere else. We all met up at the Liberace suite in Caesar's Palace at midnight, got dressed, then went to the Little Chapel of the West to get married. They played The Beatles, there was a beautiful big cake, flowers – and bottles and bottles of chilled Cristal. Even Walkers crisps. It was about four in the morning by this time, then we all went for steak and eggs and hit the blackjack tables. It was so much fun, just us, our family and Noel's manager and his wife. There was all this rubbish printed about Noel being so drunk he couldn't remember his wedding, but he wasn't even drinking. I drank the Cristal! For our honeymoon, we went to New York. Everyone flew out – Dan Macmillan, Kate, DJ Shadow, we were all in our suite, partying. It wasn't about going away to a tropical island for a week – tradition wasn't in our heads. It was 1997, Oasis were at the peak of their career. It was rock'n'roll!\"\" Kate Halfpenny, bridal designer \"\"There were so many divorces happening in the late Eighties and early Nineties, marriage just wasn't as popular as it had been. Minimalism was in fashion so you had brides like Jemima Khan, in her elegant dress and jacket, or Carolyn Bessette-Kennedy in her simple white sheath dress.\"\" Rob Van Helden \"\"My first huge, huge wedding was that of Prince Pavlos of Greece, in 1995. I had never seen a wedding like it. It went on for four days and there were 1,200 guests. In the Nineties, flowers became a luxury business. The flower world became like the chef world. You had your celebrity chefs and your celebrity floral designers. \"\" Phillipa Lepley, bridal designer \"\"The fabrics got ever more sophisticated in the Nineties. Those slubby silk dupions, or rough taffetas, were out. The look was cleaner, straighter – though brides still wore sleeves, which is not the case now.\"\" The new millennium. After the recession of the late Nineties, a bullish economy was reflected in a rise in the average wedding costs, (from £10k in the 1980s, to £15k today), giving rise to a new wedding industry, worth millions of pounds – an industry which was quick to capitalise on the new laws regarding civil partnerships, passed in 2005, for gay couples, celebrated memorably by the wedding of Sir Elton John to David Furnish. Alice du Parq, Brides Magazine \"\"Martha Stewart launched her magazine in the US in 1994. It took a few years but by the beginning of the Noughties, her influence was being felt in the UK, too. Here was a new way to do weddings – personalised, bespoke, hyper-individualised – which focused on making a visual impression. Couples began to create a continuous theme between the venue, flowers, cake, bridesmaids, cocktail and table décor.\"\" Fiona Leahy, event planner \"\"A lot of upscale, modern weddings are a form of branding – they're a way for a couple to impart and share with guests their personal taste. The first wedding I organised was for Dita Von Teese and Marilyn Manson. Their stamp was on everything. It wasn't all plastic bats and striptease, it was chic, and quite Victorian in style. Couples are far more imaginative now with their weddings – especially since there's no pressure to get married at home. Huge numbers of couples now marry abroad, in France, Italy, Barbados.\"\" Bruce Oldfield \"\"Everything has become more casual in our society, so of course couples want their wedding to be less formal, just as every generation wants less formality than the previous generation. It's an easing up of the rigours – which, in a bride, means not having to have a veil over her face, or wear a tiara. Now a wedding is as much about the ceremony as it is about dancing and having a good time with friends.\"\" Nicky Haslam \"\"People clap in church now when the couple kiss. It's a completely new invention. You never had guests taking cameras into the church, taking pictures of the bride as she walked up the aisle. Nor would you have brides in strapless dresses in the church. Weddings have become more of a public spectacle. They're more a reason for everyone to get pissed. And they go on far too long – some are seven-hour marathons.\"\" Kate Halfpenny \"\"No bride wants that strapless, A-line dress that was so popular five years ago. Very few brides want a corset, either, because there is now this obsession with being comfortable on your wedding day. Veils have become very unpopular, they're seen as too old-fashioned. Which is funny because vintage has been, for the past 10 years, a huge trend in fashion. Some mothers of the bride I see absolutely adore the vintage dresses I make, because they remind them of what they wore themselves on their wedding day. Others hate them for the exact same reason. Although, brides are older now (and some onto their second or third marriages) so their mothers have far less say in what they wear – I've dressed brides for synagogue ceremonies who were definitely showing cleavage.\"\" Alice du Parq \"\"Princess Diana was just 20 when she got married. It's rare for a bride to be that young now – the average bride in the UK is 34. Today's 20-year-old is carving out a career, or finishing university, dating, and figuring out the type of woman she wants to be. She's not thinking about being someone's wife. Most couples live together for years before they decide to marry. It means that wedding lists have changed, too: people already have the kettle and toaster by the time they walk down the aisle. \"\" Tom Konig Oppenheimer, co-owner of PR firm, The Communications Store \"\"When the civil partnership law changed we initially didn't want to get married – Adam and I have been together for 14 years, we didn't feel the need. But then we thought, actually, it's an honour, especially because, for decades, our type couldn't be recognised like that. It was a first for everyone, including us. We'd never been to a gay wedding so we made it up from scratch. We married at Chelsea registry office, then we had 130 for dinner at Tramp's. I was working with Abercrombie & Fitch at the time; I thought, if we're going to be gay, we might as well be really gay, so we got the Abercrombie male models to come and serve vodka, semi-naked. I had recently \"\"won\"\" Thandie Newton at an auction – so she sang after dinner. Simon Sebag Montefiore wrote the evening up for The Spectator (God knows what they thought) and Vogue covered it too – it was the first time they'd featured a gay wedding. It was a lovely, joyous night.\"\" As the decade progressed, celebrity coverage became all-pervasive; couples could now imitate the weddings they saw in glossy magazines. And with the advance of the internet into our lives, couples could now access vast amounts of information – locations, flowers, food, themes – making the choice in how they wed almost infinite. Rob Van Helden \"\"I've done a few footballers' and celebrity weddings that have been covered in Hello!. You have to keep the flowers under sheets to stop the paparazzi at the door from spying. Brides often come to me with pictures of Hollywood weddings – though they don't realise quite how much those American florists charge. With the vast scope of magazines and the internet, there's so much more choice, and brides have become more choosy. It's no coincidence that the term, Bridezilla, has come about.\"\" Fiona Leahy \"\"The internet has made weddings more egalitarian. Unless you were royalty you wouldn't have your own monogram on your wedding invitation. Now, with computer-generated software, you can make your own. It's given couples more freedom to be individual and creative. It follows from the way we live now: we blog, we Tweet. It's all about self-definition.\"\" Weddings became increasingly lavish, until, in 2007, the credit crunch strikes. Rob Van Helden \"\"The build-up of spending power, up till 2007, was incredible. It was all about more, more, more, and, \"\"God, did you go to that wedding where there were 20,000 white roses?\"\". Then we were all brought back down to earth. People have started to believe in the elegance of a wedding, the simplicity. That less is more. It's all about a more relaxed sensibility at weddings now.\"\" Fiona Leahy \"\"At a wedding in the Middle East, I organised, as favours for the guests, mahogany boxes containing individual perfume bottles from Henry Jacques in Paris, worth £500 each. Another occasion, I had to track down albino peacocks for an all-white themed reception. I've had to fly wedding cakes, business class, in their own seats, and send a driver to France to pick up foie gras for a wedding in Scotland. But I'm finding fewer people want to be ostentatious in that way now. People still want to be opulent, but in a less showy manner.\"\" Bruce Oldfield \"\"I opened my shop in Beauchamp Place in late 2009. The first six months were very, very quiet. People were tightening their belts, downscaling their weddings. There was suddenly something vulgar about spending masses of money on a single day.\"\" Vicky Ward, writer \"\"I wrote a book about Lehman Brothers. In August 2008, a senior-level banker at the firm had rented the biggest, most expensive house in St Tropez for his wedding. It was filled with his bride and all their guests, including those he'd flown over from the States at great expense, not least the photographer, Terry Richardson, who was there to take their wedding pictures. But where was the groom? Stuck in New York with a broken leg, and the shit about to hit the fan at Lehman's. No one in that office was going anywhere. In the end he got the red eye over to France, hobbled up the aisle – still wearing the clothes he flew in – saidhis vows, then got straight back on a plane and went home. God only knows how much money was wasted. Lehman's went down on 15 September. Talk about wedding of the moment.\"\" In reaction to the extravagance, and in line with Britain's growing eco-awareness, weddings moved towards more low-key celebrations. Mimicking the bohemian atmosphere of a music festival – or the traditional village fête – country weddings became all the rage. Kate Halfpenny \"\"The press say that I'm making Kate Moss's wedding dress – I'm not. I wouldn't be surprised if she had a quintessentially English wedding, teepees in an apple orchard, fairy lights, but with a rock'n'roll party edge. That kind of English wedding feels more modern than hiring the Dorchester and a sit-down dinner for 150.\"\" On 29 april, Prince William will marry Catherine Middleton at Westminster Abbey. Vicky Ward \"\"I think it's admirable William and Kate are conscious of austerity Britain, but this wedding is important for the world. No one will replace Diana, but Kate is the fairy tale again. There's no obscure, \"\"Whatever love is\"\", with this couple, they really do seem to be in love. And everyone wants a wedding that reflects that. We're in need of a fairy tale.\"\" Bruce Oldfield \"\"Royal weddings tend to be predictable, and this one will be predictable in so far as there are things that have to be done, in ways that are set. But there will certainly be some surprises. We're making quite a lot of things for the bridal party. People are going for it – hat makers are busy, shoemakers are busy, glove makers are busy. No one does a wedding like the English.\"\" \n",
            "\n",
            "wedding - 23.282913888627387\n",
            "dress - 8.044274579126084\n",
            "bride - 6.832370531425784\n",
            "couple - 4.9443505418412235\n",
            "want - 4.915478839833821\n",
            "time - 3.8707640807600727\n",
            "Diana - 3.72977896565275\n",
            "designer - 3.1506786017148283\n",
            "way - 3.071424432801995\n",
            "Kate - 3.0157095757504653\n",
            "married - 2.9896238315220014\n",
            "Noel - 2.9819264572762942\n",
            "People - 2.7282546529589577\n",
            "white - 2.627988359634748\n",
            "flowers - 2.612068082193148\n",
            "marry - 2.577472833186335\n",
            "flower - 2.574281727263241\n",
            "wore - 2.500228010020255\n",
            "come - 2.4449127969058937\n",
            "Palace - 2.4212554111779823\n",
            "dinner - 2.345902609772587\n",
            "France - 2.3354749998572863\n",
            "thought - 2.3142013557967034\n",
            "Prince - 2.220432491618018\n",
            "ceremony - 2.1517991073742193\n",
            "fairy - 2.1019325883383106\n",
            "celebrity - 2.084834905064266\n",
            "big - 2.0441038228568953\n",
            "year - 2.043301994242341\n",
            "new - 2.019257732355507\n",
            "civil - 2.0070592771694105\n",
            "huge - 1.9955340833555675\n",
            "\n",
            "\n",
            "The Saturday interview: Pearl and Daisy Lowe Pearl Lowe spent the mid-90s in a whirl of endless parties that led to addiction and depression. But she and her daughter Daisy are now a major force in fashion, writes Amy Raphael Last September a £35 vintage black polyester dress with a cream lace trim caused the kind of fuss in the fashion world usually reserved for Kate Moss's collections for Topshop. Designed by Pearl Lowe, once a minor Britpop star, the dress sold out in two hours. Peacocks, a budget retailer that managed to be around for over a century without generating much fuss, had to set up a waiting list for the first time in its history. Courtney Love tweeted a message to Lowe asking for a dress to be couriered to her New York hotel. Natalie Imbruglia and Sharleen Spiteri managed to get hold of one. And, after waiting for a few weeks, television presenter Holly Willoughby wore hers on This Morning. Lowe's new collection for Peacocks - a black dress with lace bows, a simple floral dress, a polka-dot dress - was launched this week. Fashion writers blogged and tweeted about the vintage-style dresses for weeks in advance. The collections sell so well because they are easy to wear and hugely flattering, with sleeves and nipped-in waists; they come in sizes 8 to 18 and manage to look unique, like great flea-market finds. The fact Lowe is so well connected helps, too. Before moving to a big house in Somerset with her family - she is married to Supergrass drummer Danny Goffey - she was part of the mid-90s Primrose Hill set that included Kate Moss, Sadie Frost, Sienna Miller, Jude Law and Rhys Ifans. It helps, too, that Lowe's daughter Daisy is a supermodel who has modelled her last two Peacocks collections. Daisy is equally well connected: her friend Alexa Chung bought the black polyester dress, and she is a regular on the catwalks of Vivienne Westwood and Chanel shows. Daisy has been modelling since she was signed by Select at 15 and, at 22, is the height of cool. Pearl Lowe reinvented herself a decade ago, when she started designing lace curtains and cushions; since 2006 she has been making handmade dresses, first for Liberty's and then for small London boutiques. She has always been a gifted self-publicist, inviting endless magazines and newspapers into her country house and appearing on the front of Hello! with Daisy when she married Goffey in late 2008. The press, both tabloids and broadsheets, has in turn been infatuated with Pearl for more than a decade. There has been a kind of car-crash fascination with Pearl's endless public discussion of her addiction to cocaine and heroin. Harriet Quick, fashion features director of Vogue, says that \"\"the raw material of Pearl and Daisy's story is not great; it's not as though Pearl married Keith Richards.\"\" But, she adds, \"\"in the last five years, fashion has opened up and it's become easier for people to think, \"\"I can do a line.\"\" We are following on from America, where everyone wants to make a buck out of fashion. And the fact that Pearl also has a \"\"back from hell\"\" story obviously touches people.\"\" When I meet Pearl for lunch at Babington House, a private members' club near her Somerset home, she has been talking for less than 10 minutes before suddenly announcing: \"\"I've been six years sober! Six years!\"\" There's no one around to overhear such a declaration. Perhaps Pearl, 40, is not so much telling the world as herself: as a recovering addict, she needs to keep celebrating her sobriety. She certainly looks great, with those big, generous eyes, a long bob and a dog walker's lithe body. She sips orange juice and texts Daisy, who is in her room with her boyfriend, Matt Smith, taking a nap. Pearl and Daisy are a unique mother-daughter act: Pearl is married to a rock star (albeit the drummer of a band that no longer exists), while Daisy is dating the incumbent Doctor Who, Matt Smith. Yet the reality of their relationship is not cool at all: as Daisy was growing up, Pearl was regularly taking drugs. It defines each of them to a degree; it makes you wonder if Daisy is angry. And yet here she is, drifting through the restaurant in a pretty dress, tights, black boots and a battered, expensive-looking leather jacket. She kisses her mum, hugs her tight and steals her orange juice. When dressed up for fashion shoots, Daisy is often overtly sexual and provocative; today she is virtually free of makeup, and ridiculously beautiful. They chat for a while as though alone. Pearl: \"\"Did you hang out in the bar last night?\"\" Daisy: \"\"No, we had dinner and went to bed. We were supposed to watch the Banksy film and Black Swan and go for a night walk. But we just fell asleep. I woke up at 5.30am and all the lights were on, the curtains were open ...\"\" She gasps. \"\"Ohmigod, we found two frogs in our room, one on top of the other. I think it was a baby frog and a mother frog. They were really cute but we had to pick them up and take them outside. Well, Matt had to.\"\" She catches herself, glances at me: it's clear that Smith is out of bounds. Pearl, oblivious, keeps on chatting. \"\"I'm so happy Daisy isn't like I used to be; I don't just mean not going to the bar last night, but her general lack of interest in big nights out.\"\" Daisy smiles. \"\"I'm always calling mum and saying, \"\"I don't want to go to this party, do I have to go?\"\" Don't get me wrong, I like to have a good party sometimes. But I really like having my friends over, cooking for them, dancing and then doing some painting. It's a really good night in ... \"\" It doesn't sound very rock'n'roll. \"\"If you're talking about drugs, they don't agree with me; I'm too sensitive for them.\"\" It seems that Daisy rebelled against her mum and Danny, whom Pearl met when Daisy was six, by deciding to be resolutely straight. Pearl has three children with Goffey - Alfie, 14; Frankie, 11, and Betty, 5 - and has been sober only since conceiving Betty. NME used to make nasty jokes about her giving birth to Alfie in the toilets of the Dublin Castle pub in Camden. For many years, taking drugs with a host of other north London celebrities was part of Pearl's life. She insists, however, that her kids were oblivious to the drugs. \"\"People used to be round at ours all night and then Danny would start ordering cabs while I opened the windows, lit the Diptyque candles and got the Hoover out. At 6am I'd finally go to bed and then get up and take the kids to school.\"\" I ask Daisy what this was like for her. \"\"I was aware there were lots of cool people in the house. I had no idea mum was doing drugs.\"\" Pearl continues: \"\"When Daisy was 16 she asked me if I'd ever smoked spliff ... \"\" Daisy smiles and pokes at her green minestrone soup. It has been suggested in other interviews that Pearl was often so out of it that Daisy had to look after Alfie and then Frankie, changing their nappies and feeding them. Daisy, laid back until now, sits up straight and almost shouts. \"\"No, no, no. I've always talked about having a strong maternal instinct ... when Mum was pregnant with Alfie, everyone kept saying that I was going to be really jealous of the baby. I took it upon myself to go against what everyone expected and look after him. I would always wake up early - as young kids do - and give him formula, watch Rugrats with him.\"\" Pearl: \"\"Bearing in mind I'd have done the night feeds with him.\"\" Daisy, shrugging: \"\"I was just trying to be a nice daughter.\"\" If this is well-rehearsed PR banter, it doesn't feel like it. Possibly because, as the conversation continues, it becomes clear that it has taken hard work for Pearl and Daisy to be so close. Pearl has always struggled with depression; when Frankie was five she sought help in a clinic. \"\"It wasn't easy. Danny was away on tour with Supergrass so much, and looking after the kids was down to me. I was dreadfully unhappy.\"\" Eventually, she began to realise that she had to leave London, the drugs, the social life, the madness. She found a house to rent in Hampshire and was all set to leave when Daisy, then 15, announced she wasn't coming. \"\"It was the worst period of my entire life,\"\" says Pearl. \"\"I can seriously say that I felt like ending it all. I didn't want to split my family up. I knew that if I stayed in London I wouldn't survive.\"\" Daisy edges first towards her mother and then to the other end of the table, where she spears broccoli as she talks. \"\"But I didn't understand that; I was only 15. I was a pain in the arse, but I didn't want you to go. I didn't want you to leave London. We had to keep talking and talking, but it was ... \"\" She drifts off. \"\"Let's just say there's been a lot of healing since then.\"\" Daisy moved in with her maternal grandmother, got a Saturday job at Agent Provocateur and signed to Select Models. To the outside world it looked as though Daisy's life was charmed. The reality was much more complicated. For years she had wanted to know who her biological dad was; Pearl had assumed it was Bronner Handwerger, a holistic doctor now based in San Diego with whom she had a short relationship. But Daisy worked out that, because of their respective blood groups, he couldn't be. Pearl puts her hand on Daisy's arm and says softly: \"\"In a way I was too scared to find out. I kept thinking it was too late, but it's never too late.\"\" Pearl suspected it might be Gavin Rossdale, a British rock star now living in LA who was once her best friend. \"\"I kept looking at Daisy's eyes and nose and thinking I couldn't live a lie any more.\"\" So, when Daisy was 15, Rossdale took a paternity test and discovered he was her father. Pearl says Rossdale has refused to talk to her since finding out - \"\"I lost a best friend, but found the truth\"\" - while Daisy is in regular contact with him. She looks at her mum. \"\"I hate the fact that you two don't get on. It would make life a lot easier and brighter if you did.\"\" I ask Daisy if she too suffers from depression. \"\"I've definitely got it in me. I'm better than I've ever been. I've given myself a hard time in the past: you've got a lovely family, a great boyfriend, great friends, a great job - it's so out of order for you to feel this way. As soon as I stood up and stared it in the face, I accepted it. It flies away a lot faster.\"\" Out of the window I spot Smith striding up and down the lawn, learning his lines for the next series of Doctor Who. Daisy stares out of the window and smiles. \"\"Aaaah, bless him!\"\" We all three gaze at him for a moment. Daisy pulls herself away first. \"\"Mum and Danny did everything they could for us, sending us to the best schools, making lovely family dinners, letting us have friends round, encouraging us to be open. Granted, my childhood wasn't conventional, but it was full of love. \"\"If ever I'm in trouble I ring my mum. She knows me better than anyone and has great life experience. There is no one else that can fix problems like she does.\"\" In 2007, Pearl wrote a memoir of addiction, All That Glitters, about the years in London that almost killed her. She still grimaces when talking about those hazy years and how she wasn't \"\"the best mother I could be\"\". With anyone else, this might be maddening, but with Pearl the sentiment is so heartfelt it's hard to feel angry, although you do wonder if she will ever be at peace with herself. A little later, I see Pearl, Daisy and Smith huddled together at one end of a bench in the garden. It's the first warm day of the year and there's no reason for them all to be sitting so close together, and they have no idea I can see them. Whatever Pearl may have done wrong, she also did something right. \n",
            "\n",
            "Daisy - 15.800519198601338\n",
            "Pearl - 12.202611611110521\n",
            "dress - 5.481553782227851\n",
            "fashion - 3.5582405457090944\n",
            "Lowe - 3.396230666634216\n",
            "London - 3.3469958857154563\n",
            "look - 3.217733826393252\n",
            "great - 3.0165309568407914\n",
            "Smith - 2.780607045513435\n",
            "friend - 2.725069899339667\n",
            "Alfie - 2.7035819080515595\n",
            "year - 2.6721072032334403\n",
            "night - 2.6713996699368563\n",
            "want - 2.5217142742156446\n",
            "life - 2.4961352103284162\n",
            "mum - 2.4855304177136053\n",
            "star - 2.477651024765736\n",
            "black - 2.4758831739798177\n",
            "Danny - 2.449154965849251\n",
            "drugs - 2.3827362698969075\n",
            "open - 2.321382014831868\n",
            "kid - 2.2984730704000462\n",
            "endless - 2.2590890481367767\n",
            "talk - 2.2211799358103486\n",
            "set - 2.207061990147912\n",
            "manage - 2.1899481341636196\n",
            "Frankie - 2.1748908202333372\n",
            "mother - 2.0940989176444162\n",
            "best - 2.0077464815959676\n",
            "lace - 1.9446454886480962\n",
            "family - 1.9310666021057852\n",
            "hard - 1.9201118638564907\n",
            "\n",
            "\n",
            "My favourite particle: the neutrino I started writing about neutrinos because I love them. They are quite magical really; the Universe is completely swarming with them (they are the second most abundant particle after photons) but we know practically nothing about them. And what we do know is really weird. I wrote down \"\"My favourite particle: the neutrino\"\" to fit in with the other particle articles. But it isn't my favourite particle. I toyed with \"\"Not my favourite particle: the neutrino\"\" but that just felt disrespectful. Then I decided it doesn't matter what I write at the top of the page. Why do I need this post to fall into line with the others? I suppose it's because I want symmetry. I want that warm, comfortable-yet-exciting feeling you get when starting to read the next book in a trilogy. The neutrino was postulated (imagined-up) for a similar reason: the desire for symmetry. A hundred years (ish) ago there was lots of great experimental science going on. There was no clear idea what atoms were, but there was an understanding that they weren't solid balls. Ernest Rutherford and others had established, through experiments, that there was a nucleus in the center of an atom and had postulated that electrons were \"\"in orbit\"\" around this nucleus. He came up with this description based purely on his experimental results: there was no theory at the time that predicted this. I feel quite nostalgic for this sort of experiment-driven theory. In the era of the LHC it is not the done thing to come up with a new theory to describe what we see experimentally. In general, our results have to fit some theory that has already been proposed. When they don't (they don't) we tune the theoretical predictions to match our data, like twiddling a load of knobs (most of these theory predictors, which we call Monte Carlo, have twenty or thirty knobs) until we get some agreement. I am moaning about this, but really we don't have a choice. Anyway, back to the good old days. Something called Beta decay had been observed. They had a name for it before they knew it for what it was. It was a nice bit of real-world, useful, observational science. It was noticed that some atoms would emit radiation without any provocation to do so. This is what we call radioactivity. Active radiation. Nothing to do with the radio, other than that radio also works via radiation. Radio is carried by electromagnetic radiation (my first love - the photon). What radiation is is the loss of energy by something. That energy invariably travels somewhere else in some form or other. But the thing with radioactivity is it is not deliberate. It just happens \"\"naturally\"\". When first discovered it triggered a whole host of money-making schemes, similar to modern-day homeopathy I suppose, except homeopaths make their millions out of plain water and packaging, whereas back in the day the quacks were raking it in by selling people radioactive face-cream. The scientists rebelled, lots of people got cancer and the business end closed. I laughed at these adverts and showed my mates, and then I felt really sad because I thought about people in the future (okay, the present) laughing at my friends for buying 0% proof hogswart. Anyway (again), the science continued, and we realized that what was happening was that part of the atom, in fact part of the nucleus, was \"\"decaying\"\". It was established that the radiation being emitted was electrons, because the measurement of the emitted particles' charge and mass was exactly the same as for electrons. The electrons weren't being thrown \"\"out of orbit\"\", they were being emitted from the nucleus. This is interesting, because the atomic nucleus only contains protons (with a charge of +1) and neutrons (with a charge of zero). To get a negatively charged particle out of this we thought that the neutron must decay into a proton and an electron: zero charge= +1 and -1. Great. This fitted nicely with the experimental measurement of the atom before and after it went through Beta decay. But this is where things stopped being comfortable. This picture predicts precisely the energy that the emitted radiation (the electron) must have. Depending on what kind of atom is doing the decay, we should be able to predict exactly how much energy the electron has.When they measured the energy carried by these emitted electrons, they found that the electrons could have any energy. This was a huge problem because conservation of energy was (and is) the closest we get to feeling comfortable with any knowledge in particle physics. It always works. We don't have to appeal to the fact that the theory is beautiful and elegant, we just do cold, hard experiments. And warm, soft ones. Any kind of one. We always get the same answer: energy is conserved. Always. But not in radioactivity. Wolfgang Pauli wasn't having any of it. There must be something else emitted, something that the instruments were not detecting. Pauli described the properties that this invisible particle must have; It is neutral (no charge), it has a small (or zero) mass and it has spin half like the electron. If the new particle was emitted along with the electron, then the electron could have any energy, because the total energy emitted could still add up to be the exact value predicted by the theory. The new particle would have to be a ghost, traveling through matter without interacting at all. Then we could explain why it was not detected. Of course this was not a comfortable place to be, but it was slightly less uncomfortable than violating the law of conservation of energy. Pauli was aware of his responsibility, famously saying \"\"I have done a terrible thing. I have postulated a particle that cannot be detected\"\". Wolfgang Pauli: he knew his stuff. Is it okay to make a prediction that we cannot test? Science is about trying to describe the way the world works; our understanding should be based on what we observe and our theories should be testable. This is why some experimentalists laugh at string theory. I for one am happy to ignore it until someone comes up with a way for us to test its validity. Okay, some of the reason I ignore it is because it is hard, but I would be much more inclined to make the effort if I thought it was any use. Thankfully, the little neutral ones, neutrinos, can be detected. It is just very, very difficult to do. This is because they simply do not interact with the particles that make up matter. Neutrinos can fly past an atom as if it were not there. They are neutral, so they are not affected by electromagnetic fields. The only thing in nature they have anything to do with is the weak nuclear force, so they tend to just whizz through the universe, through planets and through us, leaving no trace. We do detect the odd one. The first was 25 years after Pauli's prediction, by Cowan and Reines. Back in 1987 we saw a whopping 24 of them in just a few seconds, thanks to a supernova going off in the vicinity. But generally they are a bugger to catch. So what do we know about neutrinos now? Almost nothing, but the little bit we do know is very interesting indeed. The standard model of particle physics (the theory that we are most happy with when putting together all the little bits of knowledge we have gathered from thousands of experiments over a hundred years) tells us that neutrinos have no mass, like photons. We now know that this is not the case. Neutrinos do have mass. We know that the three kinds of neutrinos must all have different masses, so at least two of them cannot be zero. I feel like nobody really talks about this. Perhaps I hang out with the wrong kind of physicists. Neutrino experiments have shown the standard model to be deeply flawed, yet we still persist in calling it \"\"the standard model\"\". I have finished writing this now without actually saying a single thing about why I love the neutrino. I haven't mentioned that they are able to change flavour (neutrino oscillations) or that they could be their own antiparticle (are they Majorana or Dirac particles?) or that they can help us understand dark matter, or that the fate of the universe is in their hands. Each one of these things is completely deserving of its own post, written by someone who knows their onions and is able to write something that is not 90% digression. \n",
            "\n",
            "particle - 4.982389572225249\n",
            "theory - 4.9592706317956985\n",
            "neutrino - 4.148814689438726\n",
            "energy - 3.9219852793847156\n",
            "atom - 3.8796045216943975\n",
            "emit - 3.2668127200342822\n",
            "thing - 3.0319784090121993\n",
            "people - 2.660157704701091\n",
            "write - 2.6573058321785807\n",
            "radiation - 2.6313455523590905\n",
            "electron - 2.630766907337582\n",
            "nucleus - 2.400264856623651\n",
            "able - 2.1412036301534645\n",
            "charge - 2.1011903396541554\n",
            "comfortable - 2.074485045130214\n",
            "prediction - 2.0579097017250425\n",
            "experiment - 2.0256248047569696\n",
            "understand - 2.013714790521596\n",
            "feel - 1.9917330931541244\n",
            "matter - 1.9715289306851949\n",
            "Pauli - 1.915637391106075\n",
            "know - 1.9060575659544687\n",
            "neutral - 1.8848865161704653\n",
            "thought - 1.8538952584844641\n",
            "come - 1.820526254420375\n",
            "kind - 1.7964902796436117\n",
            "world - 1.7534355951422915\n",
            "laugh - 1.7368853471921057\n",
            "experimental - 1.6963598115784086\n",
            "start - 1.6959598476500481\n",
            "universe - 1.6675784824394873\n",
            "mass - 1.662873546905673\n",
            "\n",
            "\n",
            "Google founder hopes to prove he's ready to lead Larry Page takes over as CEO Mon., replacing Eric Schmidt, a veteran Silicon Valley executive (AP) SAN FRANCISCO - Google co-founder Larry Page is known for his vision, passion and intelligence. Yet there is a fair amount of concern that Page's other known traits  his aloofness, rebellious streak and affinity for pursuing wacky ideas  might lead the company astray. Page takes over as CEO on Monday as fast-rising rivals and tougher regulators threaten Google's growth. Investors used to Google Inc.\"\"s consistency in exceeding financial targets worry that new leadership will bring more emphasis on long-term projects that take years to pay off. And many people still aren't sure he has enough management skills to steer the Internet's most powerful company. Page already has learned that smarts alone won't make him a great leader. Although Page impressed Google's early investors with his ingenuity, they still insisted that he step down in 2001 as Google's first CEO. He turned over the job to Eric Schmidt, a veteran executive who began working in Silicon Valley in the early 1980s while Page was still in grammar school. Gmail Motion: Google's revolutionary new technology Page's admirers say that at 38, he is more mature and less apt to be chronically late to meetings or tune out of conversations that don't stimulate his intellect  habits that he fell into during his first stint as CEO. \"\"There are parts of being CEO that don't fit Larry's personality,\"\" said Craig Silverstein, the first employee that Page and Google's other founder, Sergey Brin, hired when they started the company in 1998. \"\"You wear a lot of different hats when you're CEO. Some of them are very interesting to Larry and some of them, presumably, are less interesting.\"\" True to his taciturn form, Page hasn't said much publicly since Google made its stunning announcement in January that he will replace Schmidt as CEO. Google said Page wasn't available for an interview. Page, though, has left little doubt about his top priority: to dissolve the bureaucracy and complacency that accompanied the company's rapid transformation into a 21st-century empire. Google is expected to end the year with more than 30,000 employees and $35 billion in annual revenue. In Page's mind, the 13-year-old company needs to return to thinking and acting like a feisty startup. Rising Internet stars such as Facebook, Twitter and Groupon, all less than 8 years old, are developing products that could challenge Google and make its dominance of Internet search less lucrative. Page has drawn comparisons to two high-tech geniuses who are even more accomplished: Microsoft Corp. co-founder Bill Gates and Apple Inc. co-founder Steve Jobs. Like those two pioneers in personal technology, Page invented and cultivated a product that changed the world. But Page has yet to match them in this respect: as CEOs, Gates and Jobs brought out the best in the companies that they created, delighting stockholders as their investments soared. Page doesn't fit the CEO mold, even by the standards of Silicon Valley's free-wheeling culture. He dropped out of graduate school at Stanford to start Google and doesn't have a business degree. Science and technology, though, seems to be in his DNA even though he grew up in Michigan, where automobiles rule. His late father, Carl, was a computer scientist and pioneer in artificial intelligence, and his mother taught computer programming. Page began working on personal computers when he was just 6 years old in 1979, when home computers were a rarity. The geeky impulses carried into his adulthood, leading him to once build an inkjet printer out of Legos. Page relishes challenging the status quo and encourages his employees to do so, too. Those who know Page suspect he picked up the anti-establishment mindset as a boy who attended Montessori schools, which discourage structured curricula and encourage independent activities. Page has wanted to control his own destiny  and legacy  since reading a biography of the inventor Nikola Tesla before he was even in high school. Tesla wasn't rewarded or widely recognized for his breakthroughs in X-ray, wireless communications and electricity. Page didn't want that to happen to him as an entrepreneur. For that reason, Page embraced the chance to be Google's CEO when the company started in a rented garage not far from the company's current headquarters in Mountain View, Calif. It also helps explain why he and Brin created a separate class of stock with greater voting power so they and Schmidt could remain in charge after the company went public in 2004. Page's stake in Google has made him one of the world's wealthiest people with an estimated fortune of $20 billion. Although the contours of his personality and background are known quantities, Page remains an enigmatic figure on Wall Street. To some, he remains best known for uncompromising idealism, reflected in his embrace of his company's \"\"Don't Be Evil\"\" motto and his pledge to never cater to investors\"\" desire for ever-rising quarterly earnings at the expense of long-term investments. Page already raised concerns by pushing Google into renewable energy and robotic cars. Those who know him say he has discussed even more far-flung projects behind closed doors. \"\"Sometimes his ideas are just way out there and you're kind of like, \"\"Wow, that came out of left field,\"\"\"\" said Ethan Anderson, a former Google product manager who now runs Redbeacon, a startup that operates a search engine for finding neighborhood businesses. Uncertainty about whether Page will be as interested as Schmidt in appeasing Wall Street has contributed to a 6 percent drop in Google's stock price since the CEO change was announced Jan. 20. The technology-driven Nasdaq index has added 3 percent during that time. BGC Financial analyst Colin Gillis doesn't believe it's a coincidence that Google revealed it would hire more than 6,200 employees this year  a 25 percent boost, and the most in its history  less than a week after it announced Page's comeback as CEO. \"\"Don't be surprised if Google's spending goes up, even it means its earnings per share might go down,\"\" Gillis said. Page's supporters believe Google's current market value of about $190 billion will climb even higher under his leadership. That would mirror what happened after Jobs finally got his chance to run Apple in 1997 after a decade in exile. Since then, Apple has brought out the iconic iPod, iPhone and iPad devices and created more than $300 billion in shareholder wealth. But the returns of company founders haven't always been triumphant. Consider Yahoo Inc. co-founder Jerry Yang's second stint as CEO from June 2007 to January 2009. Yahoo's stock fell 56 percent during that period, larger than the 41 percent drop for Nasdaq. Unlike the rest of the Nasdaq, Yahoo shares aren't close to rebounding to their June 2007 levels. Hoping to smooth the transition to a new CEO, Google is keeping Schmidt, 55, in a prominent role as executive chairman and chief liaison with lawmakers and regulators around the world. That's an important job as Google faces growing scrutiny over its ambitions to use its dominance in search to enter new markets. Brin, 37, intends to focus on long-term projects, leaving Page to manage Google's daily operations. \"\"I am quite convinced that this change will result in faster decision-making, better success for the business and ultimately greater value for the shareholders,\"\" Schmidt told The Associated Press after Google announced its shake-up in January. In the past, the three made key decisions by committee, though Schmidt was the one responsible as CEO. Schmidt guided Google through an uninterrupted stretch of prosperity that has topped the performances of other technology trailblazers, including Apple and Microsoft, at similar stages of their corporate lives. Page is better prepared to be CEO after a decade as Schmidt's apprentice, said Douglas Merrill, who worked with both executives before leaving Google in 2008 as vice president of engineering. \"\"Larry has grown over time,\"\" Merrill said. \"\"He has learned how to make projects work. He has learned how to make sure things happen on time and in a predictable fashion. Larry is a sort of a learning machine.\"\" \n",
            "\n",
            "Google - 13.216736721738055\n",
            "Page - 11.10470241812534\n",
            "company - 6.021688465601601\n",
            "CEO - 5.501261547992142\n",
            "Schmidt - 4.789574961353371\n",
            "- - 3.38574753514669\n",
            "Larry - 2.9303501701869195\n",
            "founder - 2.728413394866916\n",
            "know - 2.708784751355166\n",
            "year - 2.621809924449026\n",
            "technology - 2.6110364979823517\n",
            "new - 2.5391774197242998\n",
            "percent - 2.365735772436308\n",
            "computer - 2.3349825925396015\n",
            "Apple - 2.283444312972069\n",
            "lead - 2.202765736354031\n",
            "employee - 2.0536879138611353\n",
            "search - 2.0057989962863045\n",
            "executive - 1.9323417262540499\n",
            "high - 1.9117802075274706\n",
            "product - 1.83016454678586\n",
            "Brin - 1.8297872577297207\n",
            "Internet - 1.8290294456963072\n",
            "work - 1.8205247749109672\n",
            "old - 1.7809019614447332\n",
            "stock - 1.774196896557895\n",
            "long - 1.7700256056791335\n",
            "co - 1.7669367778998128\n",
            "great - 1.7629307314851994\n",
            "grow - 1.7415697896350957\n",
            "happen - 1.6458254678716715\n",
            "term - 1.6371833149113435\n",
            "\n",
            "\n"
          ],
          "name": "stdout"
        }
      ]
    },
    {
      "cell_type": "code",
      "metadata": {
        "id": "Xc0x3DkmIIey"
      },
      "source": [
        "textrank_1 = ['Tamoil',\n",
        "              'company',\n",
        "              'sanction',\n",
        "              'government',\n",
        "              'oil',\n",
        "              'Libya',\n",
        "              'Libyan',\n",
        "              'said',\n",
        "              'Gadhafi',\n",
        "              'Swiss',\n",
        "              'U.S.',\n",
        "              'European',\n",
        "              'international',\n",
        "              'money',\n",
        "              'refinery',\n",
        "              'based',\n",
        "              'Netherlands',\n",
        "              'country',\n",
        "              'assets',\n",
        "              'freeze',\n",
        "              'gas',\n",
        "              'regime',\n",
        "              'control',\n",
        "              'financial',\n",
        "              'person',\n",
        "              'station',\n",
        "              'spokesman',\n",
        "              'sovereign',\n",
        "              'German',\n",
        "              'wealth',\n",
        "              'business'\n",
        "              ]\n",
        "\n",
        "textrank_2 = ['wedding',\n",
        "              'dress',\n",
        "              'bride',\n",
        "              'couple',\n",
        "              'want',\n",
        "              'time',\n",
        "              'Diana',\n",
        "              'designer',\n",
        "              'way',\n",
        "              'Kate',\n",
        "              'married',\n",
        "              'Noel',\n",
        "              'people',\n",
        "              'white',\n",
        "              'flowers',\n",
        "              'marry',\n",
        "              'flower',\n",
        "              'wore',\n",
        "              'come',\n",
        "              'Palace',\n",
        "              'dinner',\n",
        "              'France',\n",
        "              'thought',\n",
        "              'Prince',\n",
        "              'ceremony',\n",
        "              'fairy',\n",
        "              'celebrity',\n",
        "              'big',\n",
        "              'year',\n",
        "              'new',\n",
        "              'civil',\n",
        "              'huge'\n",
        "              ]\n",
        "\n",
        "textrank_3 = ['Daisy',\n",
        "              'Pearl',\n",
        "              'dress',\n",
        "              'fashion',\n",
        "              'Lowe',\n",
        "              'London',\n",
        "              'look',\n",
        "              'great',\n",
        "              'Smith',\n",
        "              'friend',\n",
        "              'Alfie',\n",
        "              'year',\n",
        "              'night',\n",
        "              'want',\n",
        "              'life',\n",
        "              'mum',\n",
        "              'star',\n",
        "              'black',\n",
        "              'Danny',\n",
        "              'drugs',\n",
        "              'open',\n",
        "              'kid',\n",
        "              'endless',\n",
        "              'talk',\n",
        "              'set',\n",
        "              'manage',\n",
        "              'Frankie',\n",
        "              'mother',\n",
        "              'best',\n",
        "              'lace',\n",
        "              'family',\n",
        "              'hard'\n",
        "              ]\n",
        "\n",
        "textrank_4 = ['particle',\n",
        "              'theory',\n",
        "              'neutrino',\n",
        "              'energy',\n",
        "              'atom',\n",
        "              'emit',\n",
        "              'thing',\n",
        "              'people',\n",
        "              'write',\n",
        "              'radiation',\n",
        "              'electron',\n",
        "              'nucleus',\n",
        "              'able',\n",
        "              'charge',\n",
        "              'comfortable',\n",
        "              'prediction',\n",
        "              'experiment',\n",
        "              'understand',\n",
        "              'feel',\n",
        "              'matter',\n",
        "              'Pauli',\n",
        "              'know',\n",
        "              'neutral',\n",
        "              'thought',\n",
        "              'come',\n",
        "              'kind',\n",
        "              'world',\n",
        "              'laugh',\n",
        "              'experimental',\n",
        "              'start',\n",
        "              'universe',\n",
        "              'mass'\n",
        "              ]\n",
        "\n",
        "textrank_5 = ['Google',\n",
        "              'Page',\n",
        "              'company',\n",
        "              'CEO',\n",
        "              'Schmidt',\n",
        "              'Larry',\n",
        "              'founder',\n",
        "              'know',\n",
        "              'year',\n",
        "              'technology',\n",
        "              'new',\n",
        "              'percent',\n",
        "              'computer',\n",
        "              'Apple',\n",
        "              'lead',\n",
        "              'employee',\n",
        "              'search',\n",
        "              'executive',\n",
        "              'high',\n",
        "              'product',\n",
        "              'Brin',\n",
        "              'Internet',\n",
        "              'work',\n",
        "              'old',\n",
        "              'stock',\n",
        "              'long',\n",
        "              'co',\n",
        "              'great',\n",
        "              'grow',\n",
        "              'happen',\n",
        "              'term'\n",
        "              ]\n",
        "\n",
        "textrank_total = textrank_1 + textrank_2 + textrank_3 + textrank_4 + textrank_5\n",
        "textrank_total = [x.lower() for x in textrank_total]"
      ],
      "execution_count": 30,
      "outputs": []
    },
    {
      "cell_type": "markdown",
      "metadata": {
        "id": "R3DUHUWtUT3C"
      },
      "source": [
        "#Задание 4"
      ]
    },
    {
      "cell_type": "markdown",
      "metadata": {
        "id": "RbnUEjOXZib_"
      },
      "source": [
        "##Через эталоны, полученные методом объединения"
      ]
    },
    {
      "cell_type": "code",
      "metadata": {
        "id": "kVOvlNOcYtmj",
        "outputId": "6b908180-01fe-4531-8be1-dc0d4a64b2f2",
        "colab": {
          "base_uri": "https://localhost:8080/"
        }
      },
      "source": [
        "#len(sum_list)\n",
        "\n",
        "from nltk import ngrams\n",
        "nltk.download('universal_tagset')\n",
        "\n",
        "#sentence = 'this is a foo bar sentences and i want to ngramize it'\n",
        "#n = 2\n",
        "#tokenize = nltk.word_tokenize(sentence)\n",
        "#bigrams = ngrams(tokenize, 2)\n",
        "#for grams in bigrams:\n",
        "#     print(nltk.pos_tag(grams,tagset='universal'))\n"
      ],
      "execution_count": 31,
      "outputs": [
        {
          "output_type": "stream",
          "text": [
            "[nltk_data] Downloading package universal_tagset to /root/nltk_data...\n",
            "[nltk_data]   Package universal_tagset is already up-to-date!\n"
          ],
          "name": "stdout"
        },
        {
          "output_type": "execute_result",
          "data": {
            "text/plain": [
              "True"
            ]
          },
          "metadata": {
            "tags": []
          },
          "execution_count": 31
        }
      ]
    },
    {
      "cell_type": "markdown",
      "metadata": {
        "id": "MlB39I0jUYko"
      },
      "source": [
        "Морфологические шаблоны:\n",
        "\n",
        "1) NOUN + NOUN;\n",
        "\n",
        "2) ADJ + NOUN;\n",
        "\n",
        "3) NUM + NUM;\n",
        "\n",
        "4) NOUN + ADP;\n",
        "\n",
        "5) NUM + ADP + NUM;\n",
        "\n",
        "6) PRON + ADJ + NOUN;\n",
        "\n",
        "7) NOUN;"
      ]
    },
    {
      "cell_type": "code",
      "metadata": {
        "id": "wkgBU_oooR4M"
      },
      "source": [
        "shablons = ['NOUN + NOUN', \n",
        "            'ADJ + NOUN', \n",
        "            'NUM + NUM', \n",
        "            'NOUN + ADP', \n",
        "            'NUM + ADP + NUM', \n",
        "            'PRON + ADJ + NOUN',\n",
        "            'NOUN',\n",
        "            'VERB']"
      ],
      "execution_count": 32,
      "outputs": []
    },
    {
      "cell_type": "markdown",
      "metadata": {
        "id": "PPqOXYG-Ssc5"
      },
      "source": [
        "##Список ключевых слов 1: по умолчанию"
      ]
    },
    {
      "cell_type": "code",
      "metadata": {
        "id": "9H3ZbgXQpEZF"
      },
      "source": [
        "super_list = []\n",
        "for val in snew_ethalons:\n",
        "  listo = {}\n",
        "  text = word_tokenize(val)\n",
        "  if len(nltk.pos_tag(text)) == 1:\n",
        "    targ = nltk.pos_tag(text,tagset='universal')\n",
        "    targoo_str = targ[0][0]\n",
        "    targo_str = targ[0][1]\n",
        "    listo[targoo_str] = targo_str\n",
        "    super_list.append(listo)\n",
        "  if len(nltk.pos_tag(text)) == 2:\n",
        "    targ = nltk.pos_tag(text,tagset='universal')\n",
        "    targoo_str = targ[0][0] + ' ' + targ[1][0]\n",
        "    targo_str = targ[0][1] + ' + ' + targ[1][1]\n",
        "    listo[targoo_str] = targo_str\n",
        "    super_list.append(listo)\n",
        "  elif len(nltk.pos_tag(text)) == 3:\n",
        "    targ = nltk.pos_tag(text,tagset='universal')\n",
        "    targoo_str = targ[0][0] + ' ' + targ[1][0] + ' ' + targ[2][0]\n",
        "    targo_str = targ[0][1] + ' + ' + targ[1][1] + ' + ' + targ[2][1]\n",
        "    listo[targoo_str] = targo_str\n",
        "    super_list.append(listo)"
      ],
      "execution_count": 33,
      "outputs": []
    },
    {
      "cell_type": "code",
      "metadata": {
        "id": "dkKd6LOYwoMR",
        "outputId": "2e929d41-d14d-4059-a0d4-b83baa3ec007",
        "colab": {
          "base_uri": "https://localhost:8080/"
        }
      },
      "source": [
        "lisst = []\n",
        "\n",
        "\n",
        "for sl in super_list:\n",
        "  for k, v in sl.items():\n",
        "    if v in shablons:\n",
        "      lisst.append(k.lower())\n",
        "\n",
        "print(lisst)"
      ],
      "execution_count": 34,
      "outputs": [
        {
          "output_type": "stream",
          "text": [
            "['cocaine', 'majorana', 'electromagnetic fields', 'detected', 'finance ministry', 'colin gillis', 'fitted', 'based', 'imaginedup', 'percent', 'stimulate', 'treasury', 'programming', 'predicts', 'realworld', 'tamoil', 'passing', 'consummate', 'water', 'petroleum', 'favourite particle', 'changing', 'millennium', 'mountain view', 'libya', 'observed', 'effort', 'room', 'part', 'knowledge', 'moaning', 'showed', 'london', 'responsibility', 'governments', 'bridal party', 'gmail motion', 'wall street', 'tougher', 'radiation', 'ingenuity', 'blackjack tables', 'interact', 'uneconomical margins', 'picking', 'rossdale', 'reflects', 'refinery', 'elton', 'britain', 'flawed', 'steak', 'interior designer', '300 billion', 'elizabeth emanuel', 'gadhafi', 'bruce oldfield', 'reinvested', 'diego', 'abercrombie', 'fashion', 'las vegas', 'bits', 'catrin bedi', 'electrons', 'theatrical fairytale', 'marathons', 'un resolutions', 'happening', 'rage', 'frozen libyan', 'table dcor', 'antje baertschi', 'replacing', 'incredible formality', 'nineties', 'grammar', 'physicists', 'scratch', 'kate moss', 'dress', 'morning', 'regular on', 'genevabased', 'danny', 'pursuing', 'taciturn', 'switzerland', 'executives', 'standard model', 'tripoli', 'american florists', 'remember', 'radioactivity', 'ninety', 'celebrity weddings', 'comfortableyetexciting', 'chicago', 'long-term projects', 'lia', 'thandie', 'gathered', 'speculation', 'showing', 'garage', 'dominance', 'swiss refinery', 'ceo', 'couple', 'jacket', 'saidhis', 'delay', 'theory predictors', 'xray', 'management', 'mentioned', 'minimalism', 'curacao', 'vicky ward', 'validity', 'longsleeved', 'thinking', 'assets', 'drug', 'including', 'hotels', 'returns', 'reason', 'communications', 'new york', 'background', 'vivienne westwood', 'particle', 'infinite', 'included', 'busy shoemakers', 'carter', 'figure', 'plastic', 'introduced', 'spectacle', 'elegant dress', 'emitted', 'my favourite particle', 'glossy magazines', 'liberace', 'geoffrey', 'mass', 'prince charles', 'stations', 'eu', 'ipad', 'trunk', 'government', 'selfpublicist', 'chance', 'coincidence', 'fabrics', 'decade', 'fastrising', 'alfie', 'concern', 'elegance', 'monitoring compliance', 'emphasis', 'lowe', 'tamoil petroleum', 'instructions', 'calif', 'redbeacon', 'brought', 'growth investors', 'physics', 'insisted', 'moammar', 'internet', 'shareholder', 'thinks', 'photographer', 'heroin', 'prediction', 'relaxed sensibility', 'tradition', 'german subsidiary', 'spencer', 'michigan', 'real design', 'ceremony', 'flames', 'church', 'dirac particles', 'richardson', 'hufbauer', 'microsoft', 'seco', 'europe', 'articles', 'leaked', 'obscure', 'bridezilla', 'groom', 'collection', 'tropical island', 'expense', 'tailored', 'kate halfpenny', 'lake geneva', 'experimental science', 'clarence', 'universe', 'luxury', 'tighten', 'rigours', 'favourite particle', 'traits', 'personality', 'protocol', 'taffetas', 'secretive', 'celebrating', 'reaction', 'eggs', 'conservation', 'gav', 'universe', 'announcement through', 'eric schmidt', 'organised', 'photons', 'neutrinos', 'international sanctions', 'collombeymuraz', 'celebrity', 'packaging', 'decades', 'crisps', 'traditional village', 'fitch', '150 on 29', 'pissed', 'registry', 'anklelength', 'april', 'abundant particle', 'writing', 'communications', 'realised', 'zurichbased', 'gown', 'generation', 'reveal', 'bill gates', 'conspicuous consumption', 'style', 'craig silverstein', 'dinner', 'buckinham palace', 'money', 'family', 'spending', 'simplicity', 'repressive ruler', 'pearl lowe', 'started', 'ecoawareness', 'fairyprincess', 'paparazzi', 'drinking', 'magazine', 'industry', 'zero', 'honeymoon', 'modelled', 'investors', 'opulent', 'daisy lowe', 'antiparticle', 'theories', 'toaster', 'geneva', 'vulgar', 'dilemma', 'midnight', 'peterson', 'assistant secretary', 'experimental measurement', 'pearl', 'predicted', 'princess diana', 'dupions', 'baertschi', 'experiments', 'westminster abbey', 'sergey brin', 'spokesman', 'doctor', 'postulated', 'betty', 'registered', 'oil', 'larry page', 'peacock', 'ethan anderson', 'bespoke', 'manner', 'behrendt', 'polyester', 'diana spencer', 'frankie', 'straighter', 'january', 'happened', 'aloofness', 'chilled', 'bureaucracy', 'branch', '8 billion', 'michael alkalay', 'society', 'dresses', 'sleeves', 'google founder', 'announcement', 'extravagant', 'ignore', 'fleamarket', 'coronation', 'fairy', 'google', 'monte carlo', 'watching', 'libyanowned', 'company', 'select models', 'douglas merrill', 'pictures', 'sheath dress', 'expert', 'stopped', 'surprises', 'matter', 'frog', 'sanctions list', 'dutchbased', 'gay', 'cultivated', 'nicky haslam', 'william', 'dutch', 'ernest rutherford', 'played', 'sienna miller', 'moment', 'security', 'symmetry', 'amazing', 'measurement', 'peacocks', 'choosy', 'wolfgang pauli', 'weird', 'nucleus', 'lhc', 'watched', 'manager', 'tightening', 'cleavage', 'model', 'history', 'tabloids', 'vogue', 'rubbish', 'sketches', 'wedding', 'quacks', 'wanted', 'reuters', 'ordinary libyans', 'recession', 'committee', 'asset', 'visual impression', 'oldfashioned', 'mother', 'extravagance', 'profit', 'spying', 'features', 'occasion', 'san francisco', 'atomic nucleus', 'figuring', 'recovering', 'changed', 'eighties', 'time', 'schmidt', 'afoot', 'carter administration', 'dancing', 'stamp', 'austerity', 'monaco', 'silicon valley', 'bridal', 'house', 'appointments', 'chrysanthemums', 'buckingham palace', 'particle physics', 'operation', 'sadie', 'synagogue ceremonies', 'intellect', 'hollywood', 'numbers', 'onions', 'locked', 'crude oil', 'trails', 'huge problem', 'newsreels', 'electromagnetic radiation', 'smoke', 'ipod iphone', 'bridesmaids', 'designers', 'partying', 'gas', 'libyan', 'quick', 'writer', 'absolute', 'intelligence', 'striptease', 'business', 'kettle', 'fiona leahy', 'mum', 'marilyn manson', 'ownership', 'royal', 'enrico carisch', 'filled', 'detach', 'trilogy', 'laughed', 'addiction', 'fairy tale', 'asked', 'groupon', 'bottles', 'homeopathy', 'vintage dresses', 'neutrino', 'somerset', 'marry', 'netherlands', 'facebook twitter', 'hesitating', 'beta decay', 'height', 'photographers', 'decaying', 'yahoo', 'designer']\n"
          ],
          "name": "stdout"
        }
      ]
    },
    {
      "cell_type": "markdown",
      "metadata": {
        "id": "CHoy5KSXTS0o"
      },
      "source": [
        "##Список ключевых слов 2: summa-метод"
      ]
    },
    {
      "cell_type": "code",
      "metadata": {
        "id": "FjoIvWwswoIq"
      },
      "source": [
        "super_list = {}\n",
        "for val in sum_list:\n",
        "  text = word_tokenize(val)\n",
        "  if len(nltk.pos_tag(text)) == 1:\n",
        "    targ = nltk.pos_tag(text,tagset='universal')\n",
        "    targoo_str = targ[0][0]\n",
        "    targo_str = targ[0][1]\n",
        "    super_list[targoo_str] = targo_str\n",
        "  if len(nltk.pos_tag(text)) == 2:\n",
        "    targ = nltk.pos_tag(text,tagset='universal')\n",
        "    targoo_str = targ[0][0] + ' ' + targ[1][0]\n",
        "    targo_str = targ[0][1] + ' + ' + targ[1][1]\n",
        "    super_list[targoo_str] = targo_str\n",
        "  elif len(nltk.pos_tag(text)) == 3:\n",
        "    targ = nltk.pos_tag(text,tagset='universal')\n",
        "    targoo_str = targ[0][0] + ' ' + targ[1][0] + ' ' + targ[2][0]\n",
        "    targo_str = targ[0][1] + ' + ' + targ[1][1] + ' + ' + targ[2][1]\n",
        "    super_list[targoo_str] = targo_str"
      ],
      "execution_count": 35,
      "outputs": []
    },
    {
      "cell_type": "code",
      "metadata": {
        "id": "caWzEOaqUZFS",
        "outputId": "3d0945a0-2fbb-480a-c505-674f1327a2b8",
        "colab": {
          "base_uri": "https://localhost:8080/"
        }
      },
      "source": [
        "lisst_2 = []\n",
        "\n",
        "for k,v in super_list.items():\n",
        "  if v in shablons:\n",
        "    lisst_2.append(k.lower())\n",
        "\n",
        "print(lisst_2)"
      ],
      "execution_count": 36,
      "outputs": [
        {
          "output_type": "stream",
          "text": [
            "['tamoil', 'libyans', 'sanctions', 'company', 'companies', 'nations sanction', 'libya', 'europeans', 'investment', 'invest', 'government', 'dutch', 'money', 'power', 'economics', 'operating', 'operation', 'operates', 'operate', 'operations', 'assurance', 'assurances', 'station', 'stations', 'refineries', 'cash', 'ministry', 'fund', 'funds', 'nation', 'netherlands', 'firm', 'told', 'reach', 'asset', 'assets', 'expert', 'spokeswoman', 'person', 'gadhafi', 'liberia', 'eu', 'institution', 'institute', 'football', 'germany', 'chain', 'tip', 'state', 'north', 'officials', 'official', 'europe', 'geneva', 'country', 'list', 'lists', 'self', 'nuclear weapon', 'make', 'barrels', 'barrel', 'write', 'monitor', 'monitoring', 'weddings', 'wed', 'celebrity wedding', 'couple', 'dress', 'dresses', 'dressed', 'celebrations', 'kate', 'bride', 'brides', 'people', 'flowers', 'flower', 'marry', 'noel', 'party', 'partying', 'designer', 'design', 'designers', 'diana', 'prince', 'business', 'nineties', 'fairy', 'suit', 'suite', 'year', 'years', 'spend', 'spending', 'u', 'cake', 'cakes', 'theme', 'bruce', 'princess', 'rob', 'day', 'days', 'ceremony', 'florist', 'homes', 'home', 'law', 'want', 'worth', 'said', 'alice', 'bessette', 'lehman', 'rubbish', 'von', 'peggy', 'silk', 'terry', 'vast', 'elton', 'registry', 'university', 'bridal', 'god', 'generation', 'table', 'tables', 'fashion', 'magazine', 'magazines', 'expense', 'house', 'absolute bloody', 'konig', 'tom', 'vodka', 'semi', 'vicky', 'box', 'passing', 'haslam', 'groom', 'reception', 'partnerships pass', 'dinner', 'montefiore', 'partnership', 'parq', 'world', 'event', 'simon', 'sebag', 'hat', 'tale', 'daisy', 'pearl', 'lowe', 'say', 'saying', 'london', 'look', 'life', 'fashion writes', 'night', 'smith', 'maternal', 'endless', 'lace trim', 'love', 'collections', 'rock', 'star', 'daughter', 'friend', 'friends', 'mother', 'designed', 'big house', 'mum', 'hill', 'orange', 'watch', 'pr', 'spiteri', 'castle', 'minestrone', 'doctor', 'helps', 'help', 'blood', 'danny', 'moss collection', 'goffey', 'start design', 'kept', 'jude', 'order', 'britpop', 'willoughby', 'natalie', 'lot', 'betty', 'story', 'frankie', 'miller', 'harriet', 'particle', 'neutrino', 'neutrinos', 'particles charge', 'energy', 'predict', 'prediction', 'predicts', 'experimental science', 'thing', 'theory', 'radioactivity', 'radioactive', 'emit radiation', 'pauli', 'emitted', 'use', 'laugh', 'proof', 'okay', 'base', 'rebelled', 'end', 'comfortable feel', 'experiments', 'experiment', 'mass', 'masses', 'ones', 'balls', 'page', 'google founder', 'school', 'schools', 'ceo', 'ceos', 'rising', 'investors', 'investor', 'larry', 'job', 'jobs', 'schmidt', 'percent', 'brin', 'yahoo', 'nasdaq', 'technology', 'project', 'businesses', 'executive', 'market', 'markets', 'announcement', 'announce', 'know', 'microsoft', 'wacky', 'structure', 'ipod', 'wall', 'idealism', 'impulse', 'view', 'internet', 'wireless', 'father', 'decision', 'degree', 'product', 'management', 'manager', 'manage', 'merrill', 'stock', 'replace', 'run', 'fell', 'investments', 'nikola', 'consider', 'startup', 'delight']\n"
          ],
          "name": "stdout"
        }
      ]
    },
    {
      "cell_type": "markdown",
      "metadata": {
        "id": "Si0RRRpEV-ib"
      },
      "source": [
        "## Список ключевых слов 3: метод RAKE"
      ]
    },
    {
      "cell_type": "code",
      "metadata": {
        "id": "2fT-5XroV-Bn"
      },
      "source": [
        "super_list = {}\n",
        "for val in r_list:\n",
        "  text = word_tokenize(val)\n",
        "  if len(nltk.pos_tag(text)) == 1:\n",
        "    targ = nltk.pos_tag(text,tagset='universal')\n",
        "    targoo_str = targ[0][0]\n",
        "    targo_str = targ[0][1]\n",
        "    super_list[targoo_str] = targo_str\n",
        "  if len(nltk.pos_tag(text)) == 2:\n",
        "    targ = nltk.pos_tag(text,tagset='universal')\n",
        "    targoo_str = targ[0][0] + ' ' + targ[1][0]\n",
        "    targo_str = targ[0][1] + ' + ' + targ[1][1]\n",
        "    super_list[targoo_str] = targo_str\n",
        "  elif len(nltk.pos_tag(text)) == 3:\n",
        "    targ = nltk.pos_tag(text,tagset='universal')\n",
        "    targoo_str = targ[0][0] + ' ' + targ[1][0] + ' ' + targ[2][0]\n",
        "    targo_str = targ[0][1] + ' + ' + targ[1][1] + ' + ' + targ[2][1]\n",
        "    super_list[targoo_str] = targo_str"
      ],
      "execution_count": 37,
      "outputs": []
    },
    {
      "cell_type": "code",
      "metadata": {
        "id": "lT_5nCqGWH3S",
        "outputId": "6b1b1edb-045a-4c1c-dcac-71866958dfca",
        "colab": {
          "base_uri": "https://localhost:8080/"
        }
      },
      "source": [
        "lisst_3 = []\n",
        "\n",
        "for k,v in super_list.items():\n",
        "  if v in shablons:\n",
        "    lisst_3.append(k.lower())\n",
        "\n",
        "print(lisst_3)"
      ],
      "execution_count": 38,
      "outputs": [
        {
          "output_type": "stream",
          "text": [
            "['international sanction', 'crude oil', 'recent year', 'would', 'day', 'say', 'money', 'make', 'government', 'tamoil', 'europe', 'company', 'profit', 'person', 'assets', 'libya', 'italy', 'shut', 'gadhafi', 'regime', 'freeze', 'sanctions', 'control', 'u', 'business', 'allow', 'said', 'attempt', 'part', 'cite', 'germany', 'netherlands', 'accord', 'switzerland', 'seco', 'pledge', 'spokesman', 'condition', 'anonymity', 'matter', 'talk', 'n', 'enemy', 'fairy tale', 'new york', 'royal wedding', 'nicky haslam', 'bruce oldfield', 'fiona leahy', 'vicky ward', 'wedding like', 'wedding dress', 'princess diana', 'kate halfpenny', 'gay wedding', 'bridal designer', 'wedding day', 'reception', 'get', 'want', 'couple', 'dress', 'wedding', 'see', 'people', 'kate', 'take', 'guest', 'come', 'designer', 'year', 'become', 'diana', 'give', 'flowers', 'flower', 'everyone', 'bride', 'noel', 'nineties', 'britain', 'love', 'palace', 'dance', 'know', 'ceremony', 'flew', 'fashion', 'magazine', 'way', 'wear', 'weddings', 'mother', 'think', 'god', 'lehman', 'thing', 'time', 'go', 'dinner', 'style', 'wore', 'photographer', 'case', 'moment', 'writer', 'honeymoon', 'marriage', 'change', 'start', 'flown', 'influence', 'veil', 'morning', 'thought', 'mum', 'bottle', 'hit', 'wife', 'career', 'rock', 'reflect', 'uk', 'lot', 'everything', 'france', 'mean', 'church', 'walk', 'aisle', 'reason', 'type', 'need', 'internet', 'choice', 'guests', 'daughter daisy', 'matt smith', 'best friend', 'leave london', 'ask daisy', 'life', 'london', 'lowe', 'manage', 'found', 'house', 'pearl', 'look', 'drugs', 'daisy', 'family', 'cool', 'fact', 'kid', 'addiction', 'depression', 'kind', 'peacocks', 'set', 'week', 'sign', 'line', 'room', 'reality', 'wonder', 'drift', 'bed', 'danny', 'alfie', 'frankie', 'might', 'window', 'could', 'little bit', 'favourite particle', 'standard model', 'wolfgang pauli', 'particle', 'must', 'something', 'emit', 'radiation', 'pauli', 'write', 'theory', 'charge', 'fit', 'radioactivity', 'laugh', 'electrons', 'prediction', 'neutrino', 'zero', 'electron', 'energy', 'nucleus', 'universe', 'post', 'others', 'suppose', 'warm', 'postulate', 'atom', 'understand', 'orbit', 'describe', 'knew', 'radio', 'show', 'okay', 'mass', 'conservation', 'knowledge', 'detected', 'ignore', 'neutrinos', 'silicon valley', 'schmidt', 'nasdaq', 'google', 'page', 'ceo', 'learn', 'larry', 'personality', 'january', 'return', 'dominance', 'world', 'happen', 'chance', 'decade']\n"
          ],
          "name": "stdout"
        }
      ]
    },
    {
      "cell_type": "markdown",
      "metadata": {
        "id": "9K-lL7ogWp2o"
      },
      "source": [
        "##Список ключевых слов 4: TextRank"
      ]
    },
    {
      "cell_type": "code",
      "metadata": {
        "id": "bXlZfoCPWnrZ"
      },
      "source": [
        "super_list = {}\n",
        "for val in textrank_total:\n",
        "  text = word_tokenize(val)\n",
        "  if len(nltk.pos_tag(text)) == 1:\n",
        "    targ = nltk.pos_tag(text,tagset='universal')\n",
        "    targoo_str = targ[0][0]\n",
        "    targo_str = targ[0][1]\n",
        "    super_list[targoo_str] = targo_str\n",
        "  if len(nltk.pos_tag(text)) == 2:\n",
        "    targ = nltk.pos_tag(text,tagset='universal')\n",
        "    targoo_str = targ[0][0] + ' ' + targ[1][0]\n",
        "    targo_str = targ[0][1] + ' + ' + targ[1][1]\n",
        "    super_list[targoo_str] = targo_str\n",
        "  elif len(nltk.pos_tag(text)) == 3:\n",
        "    targ = nltk.pos_tag(text,tagset='universal')\n",
        "    targoo_str = targ[0][0] + ' ' + targ[1][0] + ' ' + targ[2][0]\n",
        "    targo_str = targ[0][1] + ' + ' + targ[1][1] + ' + ' + targ[2][1]\n",
        "    super_list[targoo_str] = targo_str"
      ],
      "execution_count": 39,
      "outputs": []
    },
    {
      "cell_type": "code",
      "metadata": {
        "id": "8KdJebJUd940",
        "outputId": "e0e98b5a-c6ef-43c6-e6c9-a23e1ae8d0a5",
        "colab": {
          "base_uri": "https://localhost:8080/"
        }
      },
      "source": [
        "lisst_4 = []\n",
        "\n",
        "for k,v in super_list.items():\n",
        "  if v in shablons:\n",
        "    lisst_4.append(k.lower())\n",
        "\n",
        "print(lisst_4)"
      ],
      "execution_count": 40,
      "outputs": [
        {
          "output_type": "stream",
          "text": [
            "['tamoil', 'company', 'sanction', 'government', 'oil', 'libya', 'libyan', 'said', 'gadhafi', 'money', 'refinery', 'based', 'netherlands', 'country', 'assets', 'freeze', 'gas', 'regime', 'control', 'person', 'station', 'spokesman', 'sovereign', 'wealth', 'business', 'wedding', 'dress', 'bride', 'couple', 'want', 'time', 'diana', 'designer', 'way', 'kate', 'noel', 'people', 'flowers', 'marry', 'flower', 'wore', 'come', 'palace', 'dinner', 'france', 'thought', 'prince', 'ceremony', 'fairy', 'celebrity', 'year', 'daisy', 'pearl', 'fashion', 'lowe', 'london', 'look', 'smith', 'friend', 'alfie', 'night', 'life', 'mum', 'star', 'danny', 'drugs', 'kid', 'endless', 'talk', 'set', 'manage', 'frankie', 'mother', 'lace', 'family', 'particle', 'theory', 'neutrino', 'energy', 'atom', 'emit', 'thing', 'write', 'radiation', 'electron', 'nucleus', 'charge', 'prediction', 'experiment', 'understand', 'feel', 'matter', 'pauli', 'know', 'kind', 'world', 'laugh', 'experimental', 'start', 'universe', 'mass', 'google', 'page', 'ceo', 'schmidt', 'larry', 'founder', 'technology', 'percent', 'computer', 'apple', 'lead', 'employee', 'search', 'executive', 'product', 'brin', 'internet', 'work', 'stock', 'co', 'grow', 'happen', 'term']\n"
          ],
          "name": "stdout"
        }
      ]
    },
    {
      "cell_type": "code",
      "metadata": {
        "id": "m2SXgBZOa5Ag"
      },
      "source": [
        ""
      ],
      "execution_count": 40,
      "outputs": []
    },
    {
      "cell_type": "markdown",
      "metadata": {
        "id": "ThRFDNbPa5n7"
      },
      "source": [
        "##Через эталоны, полученные методом пересечения"
      ]
    },
    {
      "cell_type": "markdown",
      "metadata": {
        "id": "cSDd308_a5n8"
      },
      "source": [
        "##Список ключевых слов: по умолчанию"
      ]
    },
    {
      "cell_type": "code",
      "metadata": {
        "id": "gYUQ5nwra5n9"
      },
      "source": [
        "super_list = []\n",
        "for val in cross_ethalons:\n",
        "  listo = {}\n",
        "  text = word_tokenize(val)\n",
        "  if len(nltk.pos_tag(text)) == 1:\n",
        "    targ = nltk.pos_tag(text,tagset='universal')\n",
        "    targoo_str = targ[0][0]\n",
        "    targo_str = targ[0][1]\n",
        "    listo[targoo_str] = targo_str\n",
        "    super_list.append(listo)\n",
        "  if len(nltk.pos_tag(text)) == 2:\n",
        "    targ = nltk.pos_tag(text,tagset='universal')\n",
        "    targoo_str = targ[0][0] + ' ' + targ[1][0]\n",
        "    targo_str = targ[0][1] + ' + ' + targ[1][1]\n",
        "    listo[targoo_str] = targo_str\n",
        "    super_list.append(listo)\n",
        "  elif len(nltk.pos_tag(text)) == 3:\n",
        "    targ = nltk.pos_tag(text,tagset='universal')\n",
        "    targoo_str = targ[0][0] + ' ' + targ[1][0] + ' ' + targ[2][0]\n",
        "    targo_str = targ[0][1] + ' + ' + targ[1][1] + ' + ' + targ[2][1]\n",
        "    listo[targoo_str] = targo_str\n",
        "    super_list.append(listo)"
      ],
      "execution_count": 41,
      "outputs": []
    },
    {
      "cell_type": "code",
      "metadata": {
        "id": "LykDS61ha5oD",
        "outputId": "24100ac8-8ed0-45d3-e6f0-7cb25f685c1c",
        "colab": {
          "base_uri": "https://localhost:8080/"
        }
      },
      "source": [
        "lisst_cr = []\n",
        "\n",
        "\n",
        "for sl in super_list:\n",
        "  for k, v in sl.items():\n",
        "    if v in shablons:\n",
        "      lisst_cr.append(k)\n",
        "\n",
        "print(lisst_cr)"
      ],
      "execution_count": 42,
      "outputs": [
        {
          "output_type": "stream",
          "text": [
            "['lowe', 'fashion', 'dress', 'vivienne westwood', 'somerset', 'rossdale', 'sienna miller', 'vogue', 'hollywood', 'prince charles', 'royal', 'marry', 'princess diana', 'wedding', 'dress', 'bruce oldfield', 'marilyn manson', 'westminster abbey', 'las vegas', 'silicon valley', 'eric schmidt', 'ceo', 'larry page', 'san francisco', 'microsoft', 'bill gates', 'emphasis', 'colin gillis', 'intelligence', 'ethan anderson', 'sergey brin', 'facebook twitter', 'groupon', 'wall street', 'gmail motion', 'communications', 'tamoil', 'seco', 'libya', 'libyan', 'curacao', 'catrin bedi', 'antje baertschi', 'michael alkalay', 'experiments', 'radioactivity', 'radioactivity', 'observed', 'symmetry', 'ernest rutherford', 'monte carlo', 'experimental measurement']\n"
          ],
          "name": "stdout"
        }
      ]
    },
    {
      "cell_type": "markdown",
      "metadata": {
        "id": "UjDxHek70dkf"
      },
      "source": [
        "#Задание 5"
      ]
    },
    {
      "cell_type": "markdown",
      "metadata": {
        "id": "RdwvoROiIykI"
      },
      "source": [
        "##Часть 1: без \"морфосинтаксических\" шаблонов"
      ]
    },
    {
      "cell_type": "markdown",
      "metadata": {
        "id": "X09QnJOecsm-"
      },
      "source": [
        "### Эталон с объединением"
      ]
    },
    {
      "cell_type": "code",
      "metadata": {
        "id": "HL-pgmmK0mMz",
        "outputId": "3ff534f0-2153-4b1a-ddb2-78e334e096ea",
        "colab": {
          "base_uri": "https://localhost:8080/"
        }
      },
      "source": [
        "def get_p(list_1,list_2):\n",
        "  i = 0\n",
        "  for l1 in list_1:\n",
        "    if l1 in list_2:\n",
        "      i += 1\n",
        "  return i/len(list_1)\n",
        "\n",
        "def get_r(list_1,list_2):\n",
        "  i = 0\n",
        "  for l1 in list_1:\n",
        "    if l1 in list_2:\n",
        "      i += 1\n",
        "  return i/len(list_2)\n",
        "\n",
        "def get_f(p,r):\n",
        "  drobj = (p * r)/(p + r)\n",
        "  return 2 * drobj\n",
        "\n",
        "p_sum = get_p(snew_ethalons,sum_list)\n",
        "r_sum = get_r(snew_ethalons, sum_list)\n",
        "f_sum = get_f(p_sum,r_sum)\n",
        "\n",
        "print('Precision (Summa): ' + str(p_sum))\n",
        "print('Recall (Summa): ' + str(r_sum))\n",
        "print('F1 (Summa): ' + str(f_sum))\n",
        "print()\n",
        "\n",
        "p_rake = get_p(snew_ethalons,r_list)\n",
        "r_rake = get_r(snew_ethalons, r_list)\n",
        "f_rake = get_f(p_rake,r_rake)\n",
        "\n",
        "print('Precision (RAKE): ' + str(p_rake))\n",
        "print('Recall (RAKE): ' + str(r_rake))\n",
        "print('F1 (RAKE): ' + str(f_rake))\n",
        "print()\n",
        "\n",
        "p_trank = get_p(snew_ethalons,textrank_total)\n",
        "r_trank = get_r(snew_ethalons, textrank_total)\n",
        "f_trank = get_f(p_trank,r_trank)\n",
        "\n",
        "print('Precision (TextRank): ' + str(p_trank))\n",
        "print('Recall (TextRank): ' + str(r_trank))\n",
        "print('F1 (TextRank): ' + str(f_trank))\n",
        "\n",
        "#for k, s in ethalon_1, "
      ],
      "execution_count": 43,
      "outputs": [
        {
          "output_type": "stream",
          "text": [
            "Precision (Summa): 0.13851351351351351\n",
            "Recall (Summa): 0.22043010752688172\n",
            "F1 (Summa): 0.17012448132780084\n",
            "\n",
            "Precision (RAKE): 0.16722972972972974\n",
            "Recall (RAKE): 0.3065015479876161\n",
            "F1 (RAKE): 0.21639344262295085\n",
            "\n",
            "Precision (TextRank): 0.0929054054054054\n",
            "Recall (TextRank): 0.34810126582278483\n",
            "F1 (TextRank): 0.14666666666666667\n"
          ],
          "name": "stdout"
        }
      ]
    },
    {
      "cell_type": "markdown",
      "metadata": {
        "id": "TBOxQqTpcz_h"
      },
      "source": [
        "###Эталон 2: с пересечением"
      ]
    },
    {
      "cell_type": "code",
      "metadata": {
        "id": "fS-H6szwc2aI",
        "outputId": "2abe8524-0fab-48d9-980b-77609b1f7629",
        "colab": {
          "base_uri": "https://localhost:8080/"
        }
      },
      "source": [
        "p_sum = get_p(cross_ethalons,sum_list)\n",
        "r_sum = get_r(cross_ethalons, sum_list)\n",
        "f_sum = get_f(p_sum,r_sum)\n",
        "\n",
        "print('Precision (Summa): ' + str(p_sum))\n",
        "print('Recall (Summa): ' + str(r_sum))\n",
        "print('F1 (Summa): ' + str(f_sum))\n",
        "print()\n",
        "\n",
        "p_rake = get_p(cross_ethalons,r_list)\n",
        "r_rake = get_r(cross_ethalons, r_list)\n",
        "f_rake = get_f(p_rake,r_rake)\n",
        "\n",
        "print('Precision (RAKE): ' + str(p_rake))\n",
        "print('Recall (RAKE): ' + str(r_rake))\n",
        "print('F1 (RAKE): ' + str(f_rake))\n",
        "print()\n",
        "\n",
        "p_trank = get_p(cross_ethalons,textrank_total)\n",
        "r_trank = get_r(cross_ethalons, textrank_total)\n",
        "f_trank = get_f(p_trank,r_trank)\n",
        "\n",
        "print('Precision (TextRank): ' + str(p_trank))\n",
        "print('Recall (TextRank): ' + str(r_trank))\n",
        "print('F1 (TextRank): ' + str(f_trank))"
      ],
      "execution_count": 44,
      "outputs": [
        {
          "output_type": "stream",
          "text": [
            "Precision (Summa): 0.22727272727272727\n",
            "Recall (Summa): 0.04032258064516129\n",
            "F1 (Summa): 0.0684931506849315\n",
            "\n",
            "Precision (RAKE): 0.2878787878787879\n",
            "Recall (RAKE): 0.058823529411764705\n",
            "F1 (RAKE): 0.09768637532133675\n",
            "\n",
            "Precision (TextRank): 0.19696969696969696\n",
            "Recall (TextRank): 0.08227848101265822\n",
            "F1 (TextRank): 0.11607142857142856\n"
          ],
          "name": "stdout"
        }
      ]
    },
    {
      "cell_type": "markdown",
      "metadata": {
        "id": "IlsxskLHhfJq"
      },
      "source": [
        "##Часть 2: с \"морфосинтаксическими\" шаблонами"
      ]
    },
    {
      "cell_type": "markdown",
      "metadata": {
        "id": "B9X0leqJdE43"
      },
      "source": [
        "### Эталон с объединением"
      ]
    },
    {
      "cell_type": "code",
      "metadata": {
        "id": "83rMI-RlG3Xh",
        "outputId": "7b45175c-6fee-498a-eef5-7f1fded7c106",
        "colab": {
          "base_uri": "https://localhost:8080/"
        }
      },
      "source": [
        "p_sum = get_p(snew_ethalons, lisst_2)\n",
        "r_sum = get_r(snew_ethalons, lisst_2)\n",
        "f_sum = get_f(p_sum,r_sum)\n",
        "\n",
        "print('Precision (Summa): ' + str(p_sum))\n",
        "print('Recall (Summa): ' + str(r_sum))\n",
        "print('F1 (Summa): ' + str(f_sum))\n",
        "print()\n",
        "\n",
        "p_rake = get_p(snew_ethalons, lisst_3)\n",
        "r_rake = get_r(snew_ethalons, lisst_3)\n",
        "f_rake = get_f(p_rake,r_rake)\n",
        "\n",
        "print('Precision (RAKE): ' + str(p_rake))\n",
        "print('Recall (RAKE): ' + str(r_rake))\n",
        "print('F1 (RAKE): ' + str(f_rake))\n",
        "print()\n",
        "\n",
        "p_trank = get_p(snew_ethalons, lisst_4)\n",
        "r_trank = get_r(snew_ethalons, lisst_4)\n",
        "f_trank = get_f(p_trank,r_trank)\n",
        "\n",
        "print('Precision (TextRank): ' + str(p_trank))\n",
        "print('Recall (TextRank): ' + str(r_trank))\n",
        "print('F1 (TextRank): ' + str(f_trank))\n"
      ],
      "execution_count": 45,
      "outputs": [
        {
          "output_type": "stream",
          "text": [
            "Precision (Summa): 0.11824324324324324\n",
            "Recall (Summa): 0.23890784982935154\n",
            "F1 (Summa): 0.1581920903954802\n",
            "\n",
            "Precision (RAKE): 0.14695945945945946\n",
            "Recall (RAKE): 0.37339055793991416\n",
            "F1 (RAKE): 0.21090909090909093\n",
            "\n",
            "Precision (TextRank): 0.08277027027027027\n",
            "Recall (TextRank): 0.3951612903225806\n",
            "F1 (TextRank): 0.13687150837988826\n"
          ],
          "name": "stdout"
        }
      ]
    },
    {
      "cell_type": "markdown",
      "metadata": {
        "id": "m6h8oAD3dRqt"
      },
      "source": [
        "### Эталон с пересечением"
      ]
    },
    {
      "cell_type": "code",
      "metadata": {
        "id": "D5wdRGlQdUSA",
        "outputId": "0bb40453-4a0b-4493-b2f0-cc5f28e99b4f",
        "colab": {
          "base_uri": "https://localhost:8080/"
        }
      },
      "source": [
        "#p_cl = get_p(cross_ethalons,lisst_cr)\n",
        "#r_cl = get_r(cross_ethalons, lisst_cr)\n",
        "#f_cl = get_f(p_cl,r_cl)\n",
        "\n",
        "#print('Precision (classic): ' + str(p_cl))\n",
        "#print('Recall (classic): ' + str(r_cl))\n",
        "#print('F1 (classic): ' + str(f_cl))\n",
        "#print()\n",
        "\n",
        "p_sum = get_p(cross_ethalons,lisst_2)\n",
        "r_sum = get_r(cross_ethalons, lisst_2)\n",
        "f_sum = get_f(p_sum,r_sum)\n",
        "\n",
        "print('Precision (Summa): ' + str(p_sum))\n",
        "print('Recall (Summa): ' + str(r_sum))\n",
        "print('F1 (Summa): ' + str(f_sum))\n",
        "print()\n",
        "\n",
        "p_rake = get_p(cross_ethalons,lisst_3)\n",
        "r_rake = get_r(cross_ethalons, lisst_3)\n",
        "f_rake = get_f(p_rake,r_rake)\n",
        "\n",
        "print('Precision (RAKE): ' + str(p_rake))\n",
        "print('Recall (RAKE): ' + str(r_rake))\n",
        "print('F1 (RAKE): ' + str(f_rake))\n",
        "print()\n",
        "\n",
        "p_trank = get_p(cross_ethalons,lisst_4)\n",
        "r_trank = get_r(cross_ethalons, lisst_4)\n",
        "f_trank = get_f(p_trank,r_trank)\n",
        "\n",
        "print('Precision (TextRank): ' + str(p_trank))\n",
        "print('Recall (TextRank): ' + str(r_trank))\n",
        "print('F1 (TextRank): ' + str(f_trank))\n"
      ],
      "execution_count": 46,
      "outputs": [
        {
          "output_type": "stream",
          "text": [
            "Precision (Summa): 0.18181818181818182\n",
            "Recall (Summa): 0.040955631399317405\n",
            "F1 (Summa): 0.06685236768802229\n",
            "\n",
            "Precision (RAKE): 0.21212121212121213\n",
            "Recall (RAKE): 0.060085836909871244\n",
            "F1 (RAKE): 0.09364548494983277\n",
            "\n",
            "Precision (TextRank): 0.15151515151515152\n",
            "Recall (TextRank): 0.08064516129032258\n",
            "F1 (TextRank): 0.10526315789473684\n"
          ],
          "name": "stdout"
        }
      ]
    },
    {
      "cell_type": "markdown",
      "metadata": {
        "id": "aycPpBXXtjLx"
      },
      "source": [
        "#Заключение"
      ]
    },
    {
      "cell_type": "markdown",
      "metadata": {
        "id": "hvkyO6TNtxRG"
      },
      "source": [
        "В ходе работы были найдены многие ключевые слова, которые играли в тех или иных текстах большую роль.\n",
        "\n",
        "Значения precision, recall и f-меры получились весьма низкими, однако в случае с элементами списка, составленного без учёта морфологических шаблонов, они оказались немного выше. Возможно, проблема заключается в том, что набор морфологических тэгов POS для разметки был весьма невелик.\n",
        "\n",
        "Это можно объяснить ещё и тем, что тексты, которые были отобраны для данного исследования, были рассмотрены как единое целое, и точно такому же слиянию были подвергнуты списки ключевых слов, которые прилагались к этим самым текстам.\n",
        "\n",
        "Ещё одним фактором может быть то, что самостоятельно отобранный список ключевых слов оказался небольшим, что вызвало проблемы с полнотой, точностью и f-мерой.\n",
        "\n",
        "Существенной проблемой является именно состав изначально приложенных списков ключей. Во многих случаях словосочетания написаны слитно и потому воспринимаются как одно слово. Также очень часто некоторые слова могут употребляться лишь в определённых словосочетаниях и потому сами по себе не употребляются.\n",
        "\n",
        "Также стоит отметить, что методом TextRank были получены лишь одиночные слова; словосочетания найдены не были. Возможно, существует способ, решающий эту проблему.\n",
        "\n",
        "В будущем планируется изучение текстов по отдельности и увеличение списка ручной разметки ключевых слов, а также возможная корректировка исходных файлов с ключевыми словами. Цель будет заключаться в поиске улучшения полученного результата."
      ]
    }
  ]
}